{
 "cells": [
  {
   "cell_type": "markdown",
   "metadata": {},
   "source": [
    "# Serialize Trained Hybrid Keras/TF Model for Tensorflow Serving"
   ]
  },
  {
   "cell_type": "code",
   "execution_count": 1,
   "metadata": {
    "collapsed": true
   },
   "outputs": [],
   "source": [
    "from __future__ import division, print_function\n",
    "from sklearn.preprocessing import OneHotEncoder\n",
    "from sklearn.metrics import accuracy_score, confusion_matrix\n",
    "import numpy\n",
    "import os\n",
    "import shutil\n",
    "import tensorflow as tf"
   ]
  },
  {
   "cell_type": "code",
   "execution_count": 2,
   "metadata": {
    "collapsed": false
   },
   "outputs": [],
   "source": [
    "DATA_DIR = \"../../data\"\n",
    "TEST_FILE = os.path.join(DATA_DIR, \"mnist_test.csv\")\n",
    "\n",
    "IMG_SIZE = 28\n",
    "BATCH_SIZE = 128\n",
    "NUM_CLASSES = 10\n",
    "\n",
    "MODEL_DATA_DIR = \"../../data/01-tf-serving\"\n",
    "MODEL_EPOCH = 5\n",
    "MODEL_NAME = os.path.join(MODEL_DATA_DIR, \"model-\" + str(MODEL_EPOCH))\n",
    "\n",
    "EXPORT_DIR_ROOT = os.path.join(DATA_DIR, \"tf-export\")\n",
    "EXPORT_MODEL_NAME = \"mnist_cnn\"\n",
    "EXPORT_MODEL_VERSION = 1"
   ]
  },
  {
   "cell_type": "markdown",
   "metadata": {},
   "source": [
    "## Generate data for testing"
   ]
  },
  {
   "cell_type": "code",
   "execution_count": 3,
   "metadata": {
    "collapsed": false
   },
   "outputs": [
    {
     "name": "stdout",
     "output_type": "stream",
     "text": [
      "mnist_test.csv: 0 lines read\n",
      "mnist_test.csv: 10000 lines read\n",
      "(10000, 28, 28, 1) (10000,)\n"
     ]
    }
   ],
   "source": [
    "def parse_file(filename):\n",
    "    xdata, ydata = [], []\n",
    "    fin = open(filename, \"rb\")\n",
    "    i = 0\n",
    "    for line in fin:\n",
    "        if i % 10000 == 0:\n",
    "            print(\"{:s}: {:d} lines read\".format(\n",
    "                os.path.basename(filename), i))\n",
    "        cols = line.strip().split(\",\")\n",
    "        ydata.append(int(cols[0]))\n",
    "        xdata.append(numpy.reshape(numpy.array([float(x) / 255. \n",
    "            for x in cols[1:]]), (IMG_SIZE, IMG_SIZE, 1)))\n",
    "        i += 1\n",
    "    fin.close()\n",
    "    print(\"{:s}: {:d} lines read\".format(os.path.basename(filename), i))\n",
    "    y = numpy.array(ydata)\n",
    "    X = numpy.array(xdata)\n",
    "    return X, y\n",
    "\n",
    "Xtest, ytest = parse_file(TEST_FILE)\n",
    "print(Xtest.shape, ytest.shape)"
   ]
  },
  {
   "cell_type": "code",
   "execution_count": 4,
   "metadata": {
    "collapsed": false
   },
   "outputs": [
    {
     "name": "stdout",
     "output_type": "stream",
     "text": [
      "(128, 28, 28, 1) float32 (128, 10) int32\n"
     ]
    }
   ],
   "source": [
    "def datagen(X, y, batch_size=BATCH_SIZE, num_classes=NUM_CLASSES):\n",
    "    ohe = OneHotEncoder(n_values=num_classes)\n",
    "    while True:\n",
    "        shuffled_indices = numpy.random.permutation(numpy.arange(len(y)))\n",
    "        num_batches = len(y) // batch_size\n",
    "        for bid in range(num_batches):\n",
    "            batch_indices = shuffled_indices[bid*batch_size:(bid+1)*batch_size]\n",
    "            Xbatch = numpy.zeros((batch_size, X.shape[1], X.shape[2], X.shape[3]), \n",
    "                                 dtype=\"float32\")\n",
    "            Ybatch = numpy.zeros((batch_size, num_classes), dtype=\"int32\")\n",
    "            for i in range(batch_size):\n",
    "                Xbatch[i] = X[batch_indices[i]]\n",
    "                Ybatch[i] = ohe.fit_transform(y[batch_indices[i]]).todense()\n",
    "            yield Xbatch, Ybatch\n",
    "\n",
    "self_test_gen = datagen(Xtest, ytest)\n",
    "Xbatch, Ybatch = self_test_gen.next()\n",
    "print(Xbatch.shape, Xbatch.dtype, Ybatch.shape, Ybatch.dtype)"
   ]
  },
  {
   "cell_type": "markdown",
   "metadata": {},
   "source": [
    "## Restore trained model\n",
    "\n",
    "This [blog post](http://cv-tricks.com/tensorflow-tutorial/save-restore-tensorflow-models-quick-complete-tutorial/) contains lots of good information on how to save and restore Tensorflow models."
   ]
  },
  {
   "cell_type": "code",
   "execution_count": 5,
   "metadata": {
    "collapsed": false
   },
   "outputs": [
    {
     "name": "stdout",
     "output_type": "stream",
     "text": [
      "INFO:tensorflow:Restoring parameters from ../../data/01-tf-serving/model-5\n"
     ]
    }
   ],
   "source": [
    "# sess = tf.Session()\n",
    "# tf.contrib.keras.backend.set_session(sess)\n",
    "tf.contrib.keras.backend.set_learning_phase(0)\n",
    "sess = tf.contrib.keras.backend.get_session()\n",
    "with sess.as_default():\n",
    "    saver = tf.train.import_meta_graph(MODEL_NAME + \".meta\")\n",
    "    saver.restore(sess, tf.train.latest_checkpoint(MODEL_DATA_DIR))"
   ]
  },
  {
   "cell_type": "markdown",
   "metadata": {},
   "source": [
    "## Evaluate Model with test data\n",
    "\n",
    "This is to make sure that the restored model is the same as the one we trained."
   ]
  },
  {
   "cell_type": "code",
   "execution_count": 6,
   "metadata": {
    "collapsed": false
   },
   "outputs": [
    {
     "name": "stdout",
     "output_type": "stream",
     "text": [
      "Accuracy: 0.9898\n",
      "Confusion Matrix\n",
      "[[ 974    0    1    0    0    2    6    1    5    1]\n",
      " [   1 1131    2    0    0    0    2    1    1    3]\n",
      " [   0    1 1022    2    0    0    0    3    2    0]\n",
      " [   0    1    0 1002    0    8    0    1    1    0]\n",
      " [   0    0    1    0  971    0    1    0    0    4]\n",
      " [   0    1    0    2    0  878    5    0    0    5]\n",
      " [   1    1    0    0    3    1  940    0    0    0]\n",
      " [   0    0    5    1    0    0    0 1019    5    3]\n",
      " [   0    0    0    1    1    1    1    1  955    2]\n",
      " [   1    0    0    0    6    0    0    0    4  990]]\n"
     ]
    }
   ],
   "source": [
    "ys, ys_ = [], []\n",
    "test_gen = datagen(Xtest, ytest, BATCH_SIZE)\n",
    "with sess.as_default():\n",
    "    graph = tf.get_default_graph()\n",
    "    X = graph.get_tensor_by_name(\"data/X:0\")\n",
    "#     Y = graph.get_tensor_by_name(\"data/Y:0\")\n",
    "    Y_ = graph.get_tensor_by_name(\"sequential_1/dense_2/Softmax:0\")\n",
    "    learning_phase = graph.get_tensor_by_name(\"dropout/keras_learning_phase:0\")\n",
    "#     tf.contrib.keras.backend.set_learning_phase(0)\n",
    "    num_batches = len(Xtest) // BATCH_SIZE\n",
    "    for _ in range(num_batches):\n",
    "        Xbatch, Ybatch = test_gen.next()\n",
    "        Ybatch_ = sess.run(Y_, feed_dict={X: Xbatch, learning_phase: 0})\n",
    "        ys.extend(numpy.argmax(Ybatch, axis=1))\n",
    "        ys_.extend(numpy.argmax(Ybatch_, axis=1))\n",
    "\n",
    "acc = accuracy_score(ys_, ys)\n",
    "cm = confusion_matrix(ys_, ys)\n",
    "print(\"Accuracy: {:.4f}\".format(acc))\n",
    "print(\"Confusion Matrix\")\n",
    "print(cm)"
   ]
  },
  {
   "cell_type": "markdown",
   "metadata": {},
   "source": [
    "## Export Model to form suitable by TF-Serving\n",
    "\n",
    "TF-Serving needs its models to be serialized to the [SavedModel format](https://github.com/tensorflow/tensorflow/blob/master/tensorflow/python/saved_model/README.md). The following code is largely adapted from the [mnist_saved_model.py](https://github.com/tensorflow/serving/blob/master/tensorflow_serving/example/mnist_saved_model.py). More information on this [Tensorflow Serving documentation page](https://github.com/tensorflow/serving/blob/master/tensorflow_serving/g3doc/serving_basic.md).\n",
    "\n",
    "The resulting exported model directory structure is as follows:\n",
    "\n",
    "    .\n",
    "    └── mnist_cnn_model\n",
    "        └── 1\n",
    "            ├── saved_model.pb\n",
    "            └── variables\n",
    "                ├── variables.data-00000-of-00001\n",
    "                └── variables.index\n",
    "\n",
    "Here /tmp/ corresponds to a top level `EXPORT_DIR_ROOT`, which contains the `EXPORT_MODEL_NAME_model` subdirectory. Within this is another subdirectory corresponding to the `EXPORT_MODEL_VER` which contains the protobuf file saved_model.pb containing the metadata file for the graph. The variables subdirectory contains the variables index and data files respectively."
   ]
  },
  {
   "cell_type": "code",
   "execution_count": 7,
   "metadata": {
    "collapsed": false
   },
   "outputs": [],
   "source": [
    "serialized_tf_example = tf.placeholder(tf.string, name=\"tf_example\")"
   ]
  },
  {
   "cell_type": "code",
   "execution_count": 9,
   "metadata": {
    "collapsed": false
   },
   "outputs": [
    {
     "name": "stdout",
     "output_type": "stream",
     "text": [
      "Exporting model to ../../data/tf-export/mnist_cnn_model/1\n"
     ]
    }
   ],
   "source": [
    "export_dir = os.path.join(EXPORT_DIR_ROOT, EXPORT_MODEL_NAME + \"_model\")\n",
    "shutil.rmtree(EXPORT_DIR_ROOT, True)\n",
    "export_path = os.path.join(export_dir, str(EXPORT_MODEL_VERSION))\n",
    "print(\"Exporting model to {:s}\".format(export_path))"
   ]
  },
  {
   "cell_type": "code",
   "execution_count": 10,
   "metadata": {
    "collapsed": true
   },
   "outputs": [],
   "source": [
    "builder = tf.saved_model.builder.SavedModelBuilder(export_path)"
   ]
  },
  {
   "cell_type": "code",
   "execution_count": 12,
   "metadata": {
    "collapsed": false
   },
   "outputs": [
    {
     "name": "stdout",
     "output_type": "stream",
     "text": [
      "inputs {\n",
      "  key: \"images\"\n",
      "  value {\n",
      "    name: \"data/X:0\"\n",
      "    dtype: DT_FLOAT\n",
      "    tensor_shape {\n",
      "      dim {\n",
      "        size: -1\n",
      "      }\n",
      "      dim {\n",
      "        size: 28\n",
      "      }\n",
      "      dim {\n",
      "        size: 28\n",
      "      }\n",
      "      dim {\n",
      "        size: 1\n",
      "      }\n",
      "    }\n",
      "  }\n",
      "}\n",
      "outputs {\n",
      "  key: \"scores\"\n",
      "  value {\n",
      "    name: \"sequential_1/dense_2/Softmax:0\"\n",
      "    dtype: DT_FLOAT\n",
      "    tensor_shape {\n",
      "      dim {\n",
      "        size: -1\n",
      "      }\n",
      "      dim {\n",
      "        size: 10\n",
      "      }\n",
      "    }\n",
      "  }\n",
      "}\n",
      "method_name: \"tensorflow/serving/predict\"\n",
      "\n"
     ]
    }
   ],
   "source": [
    "tensor_info_x = tf.saved_model.utils.build_tensor_info(X)\n",
    "tensor_info_y = tf.saved_model.utils.build_tensor_info(Y_)\n",
    "\n",
    "prediction_signature = (\n",
    "    tf.saved_model.signature_def_utils.build_signature_def(\n",
    "        inputs={\"images\": tensor_info_x},\n",
    "        outputs={\"scores\": tensor_info_y},\n",
    "        method_name=tf.saved_model.signature_constants.PREDICT_METHOD_NAME))\n",
    "print(prediction_signature)"
   ]
  },
  {
   "cell_type": "code",
   "execution_count": 13,
   "metadata": {
    "collapsed": false
   },
   "outputs": [
    {
     "name": "stdout",
     "output_type": "stream",
     "text": [
      "INFO:tensorflow:No assets to save.\n",
      "INFO:tensorflow:No assets to write.\n",
      "INFO:tensorflow:SavedModel written to: ../../data/tf-export/mnist_cnn_model/1/saved_model.pb\n"
     ]
    },
    {
     "data": {
      "text/plain": [
       "'../../data/tf-export/mnist_cnn_model/1/saved_model.pb'"
      ]
     },
     "execution_count": 13,
     "metadata": {},
     "output_type": "execute_result"
    }
   ],
   "source": [
    "legacy_init_op = tf.group(tf.tables_initializer(), name=\"legacy_init_op\")\n",
    "builder.add_meta_graph_and_variables(\n",
    "    sess, [tf.saved_model.tag_constants.SERVING],\n",
    "    signature_def_map = {\n",
    "        \"predict\": prediction_signature,\n",
    "        tf.saved_model.signature_constants.DEFAULT_SERVING_SIGNATURE_DEF_KEY:\n",
    "            prediction_signature\n",
    "    },\n",
    "    legacy_init_op=legacy_init_op)\n",
    "builder.save()"
   ]
  },
  {
   "cell_type": "code",
   "execution_count": null,
   "metadata": {
    "collapsed": true
   },
   "outputs": [],
   "source": []
  }
 ],
 "metadata": {
  "anaconda-cloud": {},
  "kernelspec": {
   "display_name": "Python [conda root]",
   "language": "python",
   "name": "conda-root-py"
  },
  "language_info": {
   "codemirror_mode": {
    "name": "ipython",
    "version": 2
   },
   "file_extension": ".py",
   "mimetype": "text/x-python",
   "name": "python",
   "nbconvert_exporter": "python",
   "pygments_lexer": "ipython2",
   "version": "2.7.12"
  }
 },
 "nbformat": 4,
 "nbformat_minor": 2
}
