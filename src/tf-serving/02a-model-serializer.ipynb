{
 "cells": [
  {
   "cell_type": "markdown",
   "metadata": {},
   "source": [
    "# Serialize Trained Hybrid Keras/TF Model for Tensorflow Serving\n",
    "\n",
    "Adapted from code in [mnist\\_saved\\_model.py](https://github.com/tensorflow/serving/blob/master/tensorflow_serving/example/mnist_saved_model.py) in tensorflow\\_serving/examples."
   ]
  },
  {
   "cell_type": "code",
   "execution_count": 1,
   "metadata": {
    "collapsed": true
   },
   "outputs": [],
   "source": [
    "from __future__ import division, print_function\n",
    "from sklearn.preprocessing import OneHotEncoder\n",
    "from sklearn.metrics import accuracy_score, confusion_matrix\n",
    "import numpy\n",
    "import os\n",
    "import shutil\n",
    "import tensorflow as tf"
   ]
  },
  {
   "cell_type": "code",
   "execution_count": 2,
   "metadata": {
    "collapsed": false
   },
   "outputs": [],
   "source": [
    "DATA_DIR = \"../../data\"\n",
    "TEST_FILE = os.path.join(DATA_DIR, \"mnist_test.csv\")\n",
    "\n",
    "IMG_SIZE = 28\n",
    "BATCH_SIZE = 128\n",
    "NUM_CLASSES = 10\n",
    "\n",
    "MODEL_DIR = os.path.join(DATA_DIR, \"01-tf-serving\")\n",
    "TF_MODEL_NAME = \"model-5\"\n",
    "\n",
    "EXPORT_DIR = os.path.join(DATA_DIR, \"tf-export\")\n",
    "MODEL_NAME = \"ktf-mnist-cnn\"\n",
    "MODEL_VERSION = 1"
   ]
  },
  {
   "cell_type": "markdown",
   "metadata": {},
   "source": [
    "## Restore trained model\n",
    "\n",
    "This [blog post](http://cv-tricks.com/tensorflow-tutorial/save-restore-tensorflow-models-quick-complete-tutorial/) contains lots of good information on how to save and restore Tensorflow models."
   ]
  },
  {
   "cell_type": "code",
   "execution_count": 3,
   "metadata": {
    "collapsed": false
   },
   "outputs": [
    {
     "name": "stdout",
     "output_type": "stream",
     "text": [
      "INFO:tensorflow:Restoring parameters from ../../data/01-tf-serving/model-5\n"
     ]
    }
   ],
   "source": [
    "tf.contrib.keras.backend.set_learning_phase(0)\n",
    "sess = tf.contrib.keras.backend.get_session()\n",
    "with sess.as_default():\n",
    "    saver = tf.train.import_meta_graph(os.path.join(MODEL_DIR, TF_MODEL_NAME + \".meta\"))\n",
    "    saver.restore(sess, tf.train.latest_checkpoint(MODEL_DIR))"
   ]
  },
  {
   "cell_type": "markdown",
   "metadata": {},
   "source": [
    "## Export Model to form suitable by TF-Serving\n",
    "\n",
    "TF-Serving needs its models to be serialized to the [SavedModel format](https://github.com/tensorflow/tensorflow/blob/master/tensorflow/python/saved_model/README.md). The following code is largely adapted from the [mnist_saved_model.py](https://github.com/tensorflow/serving/blob/master/tensorflow_serving/example/mnist_saved_model.py). More information on this [Tensorflow Serving documentation page](https://github.com/tensorflow/serving/blob/master/tensorflow_serving/g3doc/serving_basic.md).\n",
    "\n",
    "The resulting exported model directory structure is as follows:\n",
    "\n",
    "    .\n",
    "    └── ktf-mnist-cnn\n",
    "        └── 1\n",
    "            ├── saved_model.pb\n",
    "            └── variables\n",
    "                ├── variables.data-00000-of-00001\n",
    "                └── variables.index\n"
   ]
  },
  {
   "cell_type": "code",
   "execution_count": 4,
   "metadata": {
    "collapsed": true
   },
   "outputs": [],
   "source": [
    "shutil.rmtree(EXPORT_DIR, True)"
   ]
  },
  {
   "cell_type": "code",
   "execution_count": 5,
   "metadata": {
    "collapsed": false
   },
   "outputs": [],
   "source": [
    "serialized_tf_example = tf.placeholder(tf.string, name='tf_example')\n",
    "feature_configs = {\"x\": tf.FixedLenFeature(shape=[IMG_SIZE, IMG_SIZE, 1], dtype=tf.float32)}\n",
    "tf_example = tf.parse_example(serialized_tf_example, feature_configs)\n",
    "X = tf.identity(tf_example[\"x\"], name=\"X\")\n",
    "Y = tf.placeholder(\"int32\", shape=[None, 10], name=\"Y\")\n",
    "Y_ = tf.placeholder(\"int32\", shape=[None, 10], name=\"Y_\")"
   ]
  },
  {
   "cell_type": "code",
   "execution_count": 6,
   "metadata": {
    "collapsed": false
   },
   "outputs": [
    {
     "name": "stdout",
     "output_type": "stream",
     "text": [
      "Exporting model to ../../data/tf-export/ktf-mnist-cnn/1\n"
     ]
    }
   ],
   "source": [
    "export_dir = os.path.join(EXPORT_DIR, MODEL_NAME)\n",
    "export_path = os.path.join(export_dir, str(MODEL_VERSION))\n",
    "print(\"Exporting model to {:s}\".format(export_path))"
   ]
  },
  {
   "cell_type": "code",
   "execution_count": 7,
   "metadata": {
    "collapsed": false
   },
   "outputs": [],
   "source": [
    "builder = tf.saved_model.builder.SavedModelBuilder(export_path)"
   ]
  },
  {
   "cell_type": "code",
   "execution_count": 8,
   "metadata": {
    "collapsed": false
   },
   "outputs": [
    {
     "name": "stdout",
     "output_type": "stream",
     "text": [
      "inputs {\n",
      "  key: \"images\"\n",
      "  value {\n",
      "    name: \"X:0\"\n",
      "    dtype: DT_FLOAT\n",
      "    tensor_shape {\n",
      "      dim {\n",
      "        size: -1\n",
      "      }\n",
      "      dim {\n",
      "        size: 28\n",
      "      }\n",
      "      dim {\n",
      "        size: 28\n",
      "      }\n",
      "      dim {\n",
      "        size: 1\n",
      "      }\n",
      "    }\n",
      "  }\n",
      "}\n",
      "inputs {\n",
      "  key: \"labels\"\n",
      "  value {\n",
      "    name: \"Y:0\"\n",
      "    dtype: DT_INT32\n",
      "    tensor_shape {\n",
      "      dim {\n",
      "        size: -1\n",
      "      }\n",
      "      dim {\n",
      "        size: 10\n",
      "      }\n",
      "    }\n",
      "  }\n",
      "}\n",
      "outputs {\n",
      "  key: \"scores\"\n",
      "  value {\n",
      "    name: \"Y_:0\"\n",
      "    dtype: DT_INT32\n",
      "    tensor_shape {\n",
      "      dim {\n",
      "        size: -1\n",
      "      }\n",
      "      dim {\n",
      "        size: 10\n",
      "      }\n",
      "    }\n",
      "  }\n",
      "}\n",
      "method_name: \"tensorflow/serving/predict\"\n",
      "\n"
     ]
    }
   ],
   "source": [
    "tensor_info_x = tf.saved_model.utils.build_tensor_info(X)\n",
    "tensor_info_y = tf.saved_model.utils.build_tensor_info(Y)\n",
    "tensor_info_y_ = tf.saved_model.utils.build_tensor_info(Y_)\n",
    "\n",
    "prediction_signature = (\n",
    "    tf.saved_model.signature_def_utils.build_signature_def(\n",
    "        inputs={\"images\": tensor_info_x,\n",
    "                \"labels\": tensor_info_y},\n",
    "        outputs={\"scores\": tensor_info_y_},\n",
    "        method_name=tf.saved_model.signature_constants.PREDICT_METHOD_NAME))\n",
    "print(prediction_signature)"
   ]
  },
  {
   "cell_type": "code",
   "execution_count": 9,
   "metadata": {
    "collapsed": false
   },
   "outputs": [
    {
     "name": "stdout",
     "output_type": "stream",
     "text": [
      "INFO:tensorflow:No assets to save.\n",
      "INFO:tensorflow:No assets to write.\n",
      "INFO:tensorflow:SavedModel written to: ../../data/tf-export/ktf-mnist-cnn/1/saved_model.pb\n"
     ]
    },
    {
     "data": {
      "text/plain": [
       "'../../data/tf-export/ktf-mnist-cnn/1/saved_model.pb'"
      ]
     },
     "execution_count": 9,
     "metadata": {},
     "output_type": "execute_result"
    }
   ],
   "source": [
    "legacy_init_op = tf.group(tf.tables_initializer(), name=\"legacy_init_op\")\n",
    "builder.add_meta_graph_and_variables(\n",
    "    sess, [tf.saved_model.tag_constants.SERVING],\n",
    "    signature_def_map = {\n",
    "        \"predict\": prediction_signature,\n",
    "        tf.saved_model.signature_constants.DEFAULT_SERVING_SIGNATURE_DEF_KEY:\n",
    "            prediction_signature\n",
    "    },\n",
    "    legacy_init_op=legacy_init_op)\n",
    "builder.save()"
   ]
  },
  {
   "cell_type": "code",
   "execution_count": null,
   "metadata": {
    "collapsed": true
   },
   "outputs": [],
   "source": []
  }
 ],
 "metadata": {
  "anaconda-cloud": {},
  "kernelspec": {
   "display_name": "Python [conda root]",
   "language": "python",
   "name": "conda-root-py"
  },
  "language_info": {
   "codemirror_mode": {
    "name": "ipython",
    "version": 2
   },
   "file_extension": ".py",
   "mimetype": "text/x-python",
   "name": "python",
   "nbconvert_exporter": "python",
   "pygments_lexer": "ipython2",
   "version": "2.7.12"
  }
 },
 "nbformat": 4,
 "nbformat_minor": 2
}
