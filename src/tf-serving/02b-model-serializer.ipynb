{
 "cells": [
  {
   "cell_type": "markdown",
   "metadata": {},
   "source": [
    "# Serialize native Keras model for Tensorflow Serving\n",
    "\n",
    "Code adapted from discussion about this in [Tensorflow Issue 310](https://github.com/tensorflow/serving/issues/310), specifically Thomas Paulo's suggestion."
   ]
  },
  {
   "cell_type": "code",
   "execution_count": 1,
   "metadata": {
    "collapsed": false
   },
   "outputs": [
    {
     "name": "stderr",
     "output_type": "stream",
     "text": [
      "Using TensorFlow backend.\n"
     ]
    }
   ],
   "source": [
    "from tensorflow.python.saved_model import builder as saved_model_builder\n",
    "from tensorflow.python.saved_model import utils, tag_constants, signature_constants\n",
    "from tensorflow.python.saved_model.signature_def_utils import build_signature_def, predict_signature_def\n",
    "from tensorflow.contrib.session_bundle import exporter\n",
    "\n",
    "import keras.backend as K\n",
    "from keras.models import load_model\n",
    "import os\n",
    "import shutil\n",
    "\n",
    "K.set_learning_phase(0)"
   ]
  },
  {
   "cell_type": "markdown",
   "metadata": {},
   "source": [
    "## Load model\n",
    "\n",
    "\n",
    "The model we will use is the best model produced by [this Keras model](https://github.com/sujitpal/polydlot/blob/master/src/keras/01-mnist-fcn.ipynb)."
   ]
  },
  {
   "cell_type": "code",
   "execution_count": 2,
   "metadata": {
    "collapsed": true
   },
   "outputs": [],
   "source": [
    "DATA_DIR = \"../../data\"\n",
    "EXPORT_DIR = os.path.join(DATA_DIR, \"tf-export\")\n",
    "\n",
    "MODEL_NAME = \"keras-mnist-fcn\"\n",
    "MODEL_VERSION = 1\n",
    "\n",
    "MODEL_BIN = os.path.join(DATA_DIR, \"{:s}-best.h5\".format(MODEL_NAME))\n",
    "EXPORT_PATH = os.path.join(EXPORT_DIR, MODEL_NAME)"
   ]
  },
  {
   "cell_type": "code",
   "execution_count": 3,
   "metadata": {
    "collapsed": false
   },
   "outputs": [],
   "source": [
    "model = load_model(MODEL_BIN)"
   ]
  },
  {
   "cell_type": "markdown",
   "metadata": {},
   "source": [
    "## Export model\n",
    "\n",
    "Resulting exported model should be as follows, under the export directory given by `EXPORT_DIR`.\n",
    "\n",
    "    .\n",
    "    └── keras-mnist-fcn\n",
    "        └── 1\n",
    "            ├── saved_model.pb\n",
    "            └── variables\n",
    "                ├── variables.data-00000-of-00001\n",
    "                └── variables.index\n"
   ]
  },
  {
   "cell_type": "code",
   "execution_count": 4,
   "metadata": {
    "collapsed": false
   },
   "outputs": [],
   "source": [
    "shutil.rmtree(EXPORT_PATH, True)"
   ]
  },
  {
   "cell_type": "code",
   "execution_count": 5,
   "metadata": {
    "collapsed": false
   },
   "outputs": [
    {
     "name": "stdout",
     "output_type": "stream",
     "text": [
      "INFO:tensorflow:No assets to save.\n",
      "INFO:tensorflow:No assets to write.\n",
      "INFO:tensorflow:SavedModel written to: ../../data/tf-export/keras-mnist-fcn/1/saved_model.pb\n"
     ]
    }
   ],
   "source": [
    "full_export_path = os.path.join(EXPORT_PATH, str(MODEL_VERSION))\n",
    "builder = saved_model_builder.SavedModelBuilder(full_export_path)\n",
    "signature = predict_signature_def(inputs={\"images\": model.input},\n",
    "                                  outputs={\"scores\": model.output})\n",
    "\n",
    "with K.get_session() as sess:\n",
    "    builder.add_meta_graph_and_variables(sess=sess,\n",
    "                                         tags=[tag_constants.SERVING],\n",
    "                                         signature_def_map={\"predict\": signature})\n",
    "    builder.save()"
   ]
  },
  {
   "cell_type": "code",
   "execution_count": null,
   "metadata": {
    "collapsed": true
   },
   "outputs": [],
   "source": []
  }
 ],
 "metadata": {
  "anaconda-cloud": {},
  "kernelspec": {
   "display_name": "Python [conda root]",
   "language": "python",
   "name": "conda-root-py"
  },
  "language_info": {
   "codemirror_mode": {
    "name": "ipython",
    "version": 2
   },
   "file_extension": ".py",
   "mimetype": "text/x-python",
   "name": "python",
   "nbconvert_exporter": "python",
   "pygments_lexer": "ipython2",
   "version": "2.7.12"
  }
 },
 "nbformat": 4,
 "nbformat_minor": 2
}
