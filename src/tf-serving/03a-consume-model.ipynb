{
 "cells": [
  {
   "cell_type": "markdown",
   "metadata": {},
   "source": [
    "# Consume Hybrid Keras/TF Model served by Tensorflow Serving\n",
    "\n",
    "This notebook shows the client code needed to consume a hybrid Keras-Tensorflow model served over Tensorflow Serving. The Tensorflow Serving Model Server needs to be started against our MNIST CNN test model at `EXPORT_DIR_ROOT/EXPORT_MODEL_NAME` using the following command: \n",
    "\n",
    "    bazel-bin/tensorflow_serving/model_servers/tensorflow_model_server \\\n",
    "        --port=9000 --model_name=ktf-mnist-cnn \\\n",
    "        --model_base_path=/home/sujit/Projects/polydlot/data/tf-export/ktf-mnist-cnn\n",
    "\n",
    "Code for the client is adapted from the [mnist_client.py](https://github.com/tensorflow/serving/blob/master/tensorflow_serving/example/mnist_client.py) code provided as part of the TF-Serving examples."
   ]
  },
  {
   "cell_type": "code",
   "execution_count": 1,
   "metadata": {
    "collapsed": true
   },
   "outputs": [],
   "source": [
    "from __future__ import division, print_function\n",
    "from grpc.beta import implementations\n",
    "from sklearn.preprocessing import OneHotEncoder\n",
    "from tensorflow_serving.apis import predict_pb2\n",
    "from tensorflow_serving.apis import prediction_service_pb2\n",
    "import os\n",
    "import sys\n",
    "import time\n",
    "import numpy as np\n",
    "import tensorflow as tf"
   ]
  },
  {
   "cell_type": "code",
   "execution_count": 2,
   "metadata": {
    "collapsed": false
   },
   "outputs": [],
   "source": [
    "# NUM_TESTS = 10\n",
    "NUM_TESTS = 1\n",
    "SERVER_HOST = \"localhost\"\n",
    "SERVER_PORT = 9000\n",
    "WORK_DIR = \"/tmp\"\n",
    "\n",
    "DATA_DIR = \"../../data\"\n",
    "TEST_FILE = os.path.join(DATA_DIR, \"mnist_test.csv\")\n",
    "\n",
    "IMG_SIZE = 28\n",
    "NUM_CLASSES = 10\n",
    "BATCH_SIZE = 1\n",
    "\n",
    "MODEL_NAME = \"ktf-mnist-cnn\""
   ]
  },
  {
   "cell_type": "markdown",
   "metadata": {},
   "source": [
    "## Prepare Data"
   ]
  },
  {
   "cell_type": "code",
   "execution_count": 3,
   "metadata": {
    "collapsed": false
   },
   "outputs": [
    {
     "name": "stdout",
     "output_type": "stream",
     "text": [
      "mnist_test.csv: 0 lines read\n",
      "mnist_test.csv: 10000 lines read\n",
      "(10000, 28, 28, 1) (10000,)\n"
     ]
    }
   ],
   "source": [
    "def parse_file(filename):\n",
    "    xdata, ydata = [], []\n",
    "    fin = open(filename, \"rb\")\n",
    "    i = 0\n",
    "    for line in fin:\n",
    "        if i % 10000 == 0:\n",
    "            print(\"{:s}: {:d} lines read\".format(\n",
    "                os.path.basename(filename), i))\n",
    "        cols = line.strip().split(\",\")\n",
    "        ydata.append(int(cols[0]))\n",
    "        xdata.append(np.reshape(np.array([float(x) / 255. for x in cols[1:]]), \n",
    "                                (IMG_SIZE, IMG_SIZE, 1)))\n",
    "        i += 1\n",
    "    fin.close()\n",
    "    print(\"{:s}: {:d} lines read\".format(os.path.basename(filename), i))\n",
    "    X = np.array(xdata, dtype=\"float32\")\n",
    "    y = np.array(ydata, dtype=\"int32\")\n",
    "    return X, y\n",
    "\n",
    "Xtest, ytest = parse_file(TEST_FILE)\n",
    "print(Xtest.shape, ytest.shape)"
   ]
  },
  {
   "cell_type": "markdown",
   "metadata": {},
   "source": [
    "## Make Predictions\n",
    "\n",
    "Since my Keras/TF hybrid model computes validation set accuracy during training, I need to pass in the labels in the original model as well, hence the labels input. In an actual prediction situation, you could simply pass a zero vector. However, the error message seems to indicate that it is looking for another placeholder (which in this case has been declared to be the output placeholder Y\\_. I believe it is looking for the Keras learning phase flag, which I cannot figure out how to pass in this model."
   ]
  },
  {
   "cell_type": "code",
   "execution_count": 7,
   "metadata": {
    "collapsed": false
   },
   "outputs": [
    {
     "name": "stdout",
     "output_type": "stream",
     "text": [
      "(28, 28, 1) (10,)\n"
     ]
    },
    {
     "ename": "AbortionError",
     "evalue": "AbortionError(code=StatusCode.INVALID_ARGUMENT, details=\"You must feed a value for placeholder tensor 'Y_' with dtype int32 and shape [?,10]\n\t [[Node: Y_ = Placeholder[_output_shapes=[[?,10]], dtype=DT_INT32, shape=[?,10], _device=\"/job:localhost/replica:0/task:0/cpu:0\"]()]]\")",
     "output_type": "error",
     "traceback": [
      "\u001b[0;31m---------------------------------------------------------------------------\u001b[0m",
      "\u001b[0;31mAbortionError\u001b[0m                             Traceback (most recent call last)",
      "\u001b[0;32m<ipython-input-7-457744fc2b62>\u001b[0m in \u001b[0;36m<module>\u001b[0;34m()\u001b[0m\n\u001b[1;32m     16\u001b[0m         tf.contrib.util.make_tensor_proto(Ybatch, shape=[1, NUM_CLASSES]))\n\u001b[1;32m     17\u001b[0m \u001b[0;34m\u001b[0m\u001b[0m\n\u001b[0;32m---> 18\u001b[0;31m     \u001b[0mresult\u001b[0m \u001b[0;34m=\u001b[0m \u001b[0mstub\u001b[0m\u001b[0;34m.\u001b[0m\u001b[0mPredict\u001b[0m\u001b[0;34m(\u001b[0m\u001b[0mrequest\u001b[0m\u001b[0;34m,\u001b[0m \u001b[0;36m10.0\u001b[0m\u001b[0;34m)\u001b[0m\u001b[0;34m\u001b[0m\u001b[0m\n\u001b[0m\u001b[1;32m     19\u001b[0m \u001b[0;34m\u001b[0m\u001b[0m\n",
      "\u001b[0;32m/home/sujit/anaconda2/lib/python2.7/site-packages/grpc/beta/_client_adaptations.pyc\u001b[0m in \u001b[0;36m__call__\u001b[0;34m(self, request, timeout, metadata, with_call, protocol_options)\u001b[0m\n\u001b[1;32m    322\u001b[0m             \u001b[0mself\u001b[0m\u001b[0;34m.\u001b[0m\u001b[0m_channel\u001b[0m\u001b[0;34m,\u001b[0m \u001b[0mself\u001b[0m\u001b[0;34m.\u001b[0m\u001b[0m_group\u001b[0m\u001b[0;34m,\u001b[0m \u001b[0mself\u001b[0m\u001b[0;34m.\u001b[0m\u001b[0m_method\u001b[0m\u001b[0;34m,\u001b[0m \u001b[0mtimeout\u001b[0m\u001b[0;34m,\u001b[0m \u001b[0mwith_call\u001b[0m\u001b[0;34m,\u001b[0m\u001b[0;34m\u001b[0m\u001b[0m\n\u001b[1;32m    323\u001b[0m             \u001b[0mprotocol_options\u001b[0m\u001b[0;34m,\u001b[0m \u001b[0mmetadata\u001b[0m\u001b[0;34m,\u001b[0m \u001b[0mself\u001b[0m\u001b[0;34m.\u001b[0m\u001b[0m_metadata_transformer\u001b[0m\u001b[0;34m,\u001b[0m \u001b[0mrequest\u001b[0m\u001b[0;34m,\u001b[0m\u001b[0;34m\u001b[0m\u001b[0m\n\u001b[0;32m--> 324\u001b[0;31m             self._request_serializer, self._response_deserializer)\n\u001b[0m\u001b[1;32m    325\u001b[0m \u001b[0;34m\u001b[0m\u001b[0m\n\u001b[1;32m    326\u001b[0m     \u001b[0;32mdef\u001b[0m \u001b[0mfuture\u001b[0m\u001b[0;34m(\u001b[0m\u001b[0mself\u001b[0m\u001b[0;34m,\u001b[0m \u001b[0mrequest\u001b[0m\u001b[0;34m,\u001b[0m \u001b[0mtimeout\u001b[0m\u001b[0;34m,\u001b[0m \u001b[0mmetadata\u001b[0m\u001b[0;34m=\u001b[0m\u001b[0mNone\u001b[0m\u001b[0;34m,\u001b[0m \u001b[0mprotocol_options\u001b[0m\u001b[0;34m=\u001b[0m\u001b[0mNone\u001b[0m\u001b[0;34m)\u001b[0m\u001b[0;34m:\u001b[0m\u001b[0;34m\u001b[0m\u001b[0m\n",
      "\u001b[0;32m/home/sujit/anaconda2/lib/python2.7/site-packages/grpc/beta/_client_adaptations.pyc\u001b[0m in \u001b[0;36m_blocking_unary_unary\u001b[0;34m(channel, group, method, timeout, with_call, protocol_options, metadata, metadata_transformer, request, request_serializer, response_deserializer)\u001b[0m\n\u001b[1;32m    208\u001b[0m                 credentials=_credentials(protocol_options))\n\u001b[1;32m    209\u001b[0m     \u001b[0;32mexcept\u001b[0m \u001b[0mgrpc\u001b[0m\u001b[0;34m.\u001b[0m\u001b[0mRpcError\u001b[0m \u001b[0;32mas\u001b[0m \u001b[0mrpc_error_call\u001b[0m\u001b[0;34m:\u001b[0m\u001b[0;34m\u001b[0m\u001b[0m\n\u001b[0;32m--> 210\u001b[0;31m         \u001b[0;32mraise\u001b[0m \u001b[0m_abortion_error\u001b[0m\u001b[0;34m(\u001b[0m\u001b[0mrpc_error_call\u001b[0m\u001b[0;34m)\u001b[0m\u001b[0;34m\u001b[0m\u001b[0m\n\u001b[0m\u001b[1;32m    211\u001b[0m \u001b[0;34m\u001b[0m\u001b[0m\n\u001b[1;32m    212\u001b[0m \u001b[0;34m\u001b[0m\u001b[0m\n",
      "\u001b[0;31mAbortionError\u001b[0m: AbortionError(code=StatusCode.INVALID_ARGUMENT, details=\"You must feed a value for placeholder tensor 'Y_' with dtype int32 and shape [?,10]\n\t [[Node: Y_ = Placeholder[_output_shapes=[[?,10]], dtype=DT_INT32, shape=[?,10], _device=\"/job:localhost/replica:0/task:0/cpu:0\"]()]]\")"
     ]
    }
   ],
   "source": [
    "channel = implementations.insecure_channel(SERVER_HOST, SERVER_PORT)\n",
    "stub = prediction_service_pb2.beta_create_PredictionService_stub(channel)\n",
    "\n",
    "for i in range(NUM_TESTS):\n",
    "    request = predict_pb2.PredictRequest()\n",
    "    request.model_spec.name = MODEL_NAME\n",
    "    request.model_spec.signature_name = \"predict\"\n",
    "\n",
    "    Xbatch, ybatch = Xtest[i], ytest[i]\n",
    "    Ybatch = np.zeros((NUM_CLASSES), dtype=\"int32\")\n",
    "    print(Xbatch.shape, Ybatch.shape)\n",
    "    request.inputs[\"images\"].CopyFrom(\n",
    "        tf.contrib.util.make_tensor_proto(Xbatch, shape=[1, IMG_SIZE, IMG_SIZE, 1]))\n",
    "    request.inputs[\"labels\"].CopyFrom(\n",
    "        tf.contrib.util.make_tensor_proto(Ybatch, shape=[1, NUM_CLASSES]))\n",
    "\n",
    "    result = stub.Predict(request, 10.0)\n",
    "    \n"
   ]
  },
  {
   "cell_type": "code",
   "execution_count": null,
   "metadata": {
    "collapsed": true
   },
   "outputs": [],
   "source": []
  }
 ],
 "metadata": {
  "anaconda-cloud": {},
  "kernelspec": {
   "display_name": "Python [conda root]",
   "language": "python",
   "name": "conda-root-py"
  },
  "language_info": {
   "codemirror_mode": {
    "name": "ipython",
    "version": 2
   },
   "file_extension": ".py",
   "mimetype": "text/x-python",
   "name": "python",
   "nbconvert_exporter": "python",
   "pygments_lexer": "ipython2",
   "version": "2.7.12"
  }
 },
 "nbformat": 4,
 "nbformat_minor": 2
}
