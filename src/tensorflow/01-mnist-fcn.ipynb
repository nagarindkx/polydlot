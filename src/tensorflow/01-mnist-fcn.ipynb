{
 "cells": [
  {
   "cell_type": "markdown",
   "metadata": {},
   "source": [
    "# MNIST Digit Classification - FCN"
   ]
  },
  {
   "cell_type": "code",
   "execution_count": 1,
   "metadata": {
    "collapsed": true
   },
   "outputs": [],
   "source": [
    "from __future__ import division, print_function\n",
    "from sklearn.metrics import accuracy_score, confusion_matrix\n",
    "from sklearn.preprocessing import OneHotEncoder\n",
    "import matplotlib.pyplot as plt\n",
    "import numpy as np\n",
    "import os\n",
    "import tensorflow as tf\n",
    "%matplotlib inline"
   ]
  },
  {
   "cell_type": "code",
   "execution_count": 2,
   "metadata": {
    "collapsed": false
   },
   "outputs": [],
   "source": [
    "DATA_DIR = \"../../data\"\n",
    "TRAIN_FILE = os.path.join(DATA_DIR, \"mnist_train.csv\")\n",
    "TEST_FILE = os.path.join(DATA_DIR, \"mnist_test.csv\")\n",
    "\n",
    "LOG_DIR = os.path.join(DATA_DIR, \"tf-mnist-fcn-logs\")\n",
    "MODEL_FILE = os.path.join(DATA_DIR, \"tf-mnist-fcn\")\n",
    "\n",
    "IMG_SIZE = 28\n",
    "LEARNING_RATE = 0.001\n",
    "BATCH_SIZE = 128\n",
    "NUM_CLASSES = 10\n",
    "NUM_EPOCHS = 10"
   ]
  },
  {
   "cell_type": "markdown",
   "metadata": {},
   "source": [
    "## Prepare Data"
   ]
  },
  {
   "cell_type": "code",
   "execution_count": 3,
   "metadata": {
    "collapsed": false
   },
   "outputs": [
    {
     "name": "stdout",
     "output_type": "stream",
     "text": [
      "mnist_train.csv: 0 lines read\n",
      "mnist_train.csv: 10000 lines read\n",
      "mnist_train.csv: 20000 lines read\n",
      "mnist_train.csv: 30000 lines read\n",
      "mnist_train.csv: 40000 lines read\n",
      "mnist_train.csv: 50000 lines read\n",
      "mnist_train.csv: 60000 lines read\n",
      "mnist_test.csv: 0 lines read\n",
      "mnist_test.csv: 10000 lines read\n",
      "(60000, 784) (60000,) (10000, 784) (10000,)\n"
     ]
    }
   ],
   "source": [
    "def parse_file(filename):\n",
    "    xdata, ydata = [], []\n",
    "    fin = open(filename, \"rb\")\n",
    "    i = 0\n",
    "    for line in fin:\n",
    "        if i % 10000 == 0:\n",
    "            print(\"{:s}: {:d} lines read\".format(\n",
    "                os.path.basename(filename), i))\n",
    "        cols = line.strip().split(\",\")\n",
    "        ydata.append(int(cols[0]))\n",
    "        xdata.append([float(x) / 255. for x in cols[1:]])\n",
    "        i += 1\n",
    "    fin.close()\n",
    "    print(\"{:s}: {:d} lines read\".format(os.path.basename(filename), i))\n",
    "    y = np.array(ydata)\n",
    "    X = np.array(xdata)\n",
    "    return X, y\n",
    "\n",
    "Xtrain, ytrain = parse_file(TRAIN_FILE)\n",
    "Xtest, ytest = parse_file(TEST_FILE)\n",
    "print(Xtrain.shape, ytrain.shape, Xtest.shape, ytest.shape)"
   ]
  },
  {
   "cell_type": "code",
   "execution_count": 4,
   "metadata": {
    "collapsed": false
   },
   "outputs": [
    {
     "name": "stdout",
     "output_type": "stream",
     "text": [
      "(128, 784) (128, 10)\n"
     ]
    }
   ],
   "source": [
    "def datagen(X, y, batch_size=BATCH_SIZE, num_classes=NUM_CLASSES):\n",
    "    ohe = OneHotEncoder(n_values=num_classes)\n",
    "    while True:\n",
    "        shuffled_indices = np.random.permutation(np.arange(len(y)))\n",
    "        num_batches = len(y) // batch_size\n",
    "        for bid in range(num_batches):\n",
    "            batch_indices = shuffled_indices[bid*batch_size:(bid+1)*batch_size]\n",
    "            Xbatch = np.zeros((batch_size, X.shape[1]))\n",
    "            Ybatch = np.zeros((batch_size, num_classes))\n",
    "            for i in range(batch_size):\n",
    "                Xbatch[i] = X[batch_indices[i]]\n",
    "                Ybatch[i] = ohe.fit_transform(y[batch_indices[i]]).todense()\n",
    "            yield Xbatch, Ybatch\n",
    "\n",
    "self_test_gen = datagen(Xtrain, ytrain)\n",
    "Xbatch, Ybatch = self_test_gen.next()\n",
    "print(Xbatch.shape, Ybatch.shape)"
   ]
  },
  {
   "cell_type": "markdown",
   "metadata": {},
   "source": [
    "## Define Network"
   ]
  },
  {
   "cell_type": "code",
   "execution_count": 5,
   "metadata": {
    "collapsed": false
   },
   "outputs": [],
   "source": [
    "X = tf.placeholder(tf.float32, [BATCH_SIZE, IMG_SIZE*IMG_SIZE], name=\"X\")\n",
    "Y = tf.placeholder(tf.float32, [BATCH_SIZE, NUM_CLASSES], name=\"Y\")"
   ]
  },
  {
   "cell_type": "code",
   "execution_count": 6,
   "metadata": {
    "collapsed": false
   },
   "outputs": [],
   "source": [
    "def compute_xavier_params(fan_in, fan_out):\n",
    "    low = -4 * np.sqrt(6.0 / (fan_in + fan_out)) # {sigmoid:4, tanh:1} \n",
    "    high = 4 * np.sqrt(6.0 / (fan_in + fan_out))\n",
    "    return low, high\n",
    "\n",
    "# def weight_variable(shape):\n",
    "#     p1, p2 = compute_xavier_params(shape[0], shape[1])\n",
    "#     initial = tf.random_uniform(shape=shape, minval=p1, maxval=p2)\n",
    "#     return tf.Variable(initial)\n",
    "\n",
    "def weight_variable(shape):\n",
    "    initial = tf.truncated_normal(shape, stddev=0.01)\n",
    "    return tf.Variable(initial)\n",
    "\n",
    "def bias_variable(shape):\n",
    "    initial = tf.zeros(shape=shape)\n",
    "    return tf.Variable(initial)\n",
    "\n",
    "# layer 1 - 784 => 512\n",
    "input_shape = IMG_SIZE*IMG_SIZE\n",
    "W1 = weight_variable([input_shape, 512])\n",
    "b1 = bias_variable([512])\n",
    "H1 = tf.nn.relu(tf.add(tf.matmul(X, W1), b1))\n",
    "H1 = tf.nn.dropout(H1, 0.2)\n",
    "\n",
    "# layer 2 - 512 => 256\n",
    "W2 = weight_variable([512, 256])\n",
    "b2 = bias_variable([256])\n",
    "H2 = tf.nn.relu(tf.add(tf.matmul(H1, W2), b2))\n",
    "H2 = tf.nn.dropout(H2, 0.5)\n",
    "\n",
    "# layer 3 - 256 => 10\n",
    "W3 = weight_variable([256, 10])\n",
    "b3 = bias_variable([10])\n",
    "Y_ = tf.nn.softmax(tf.add(tf.matmul(H2, W3), b3))"
   ]
  },
  {
   "cell_type": "code",
   "execution_count": 7,
   "metadata": {
    "collapsed": false
   },
   "outputs": [],
   "source": [
    "loss = tf.reduce_mean(tf.nn.softmax_cross_entropy_with_logits(\n",
    "    labels=Y, logits=Y_, name=\"loss\"))\n",
    "optimizer = tf.train.AdamOptimizer(\n",
    "    learning_rate=LEARNING_RATE).minimize(loss)"
   ]
  },
  {
   "cell_type": "code",
   "execution_count": 8,
   "metadata": {
    "collapsed": true
   },
   "outputs": [],
   "source": [
    "correct_preds = tf.equal(tf.argmax(Y_, 1), tf.argmax(Y, 1))\n",
    "accuracy = tf.reduce_mean(tf.cast(correct_preds, tf.float32))"
   ]
  },
  {
   "cell_type": "code",
   "execution_count": 9,
   "metadata": {
    "collapsed": true
   },
   "outputs": [],
   "source": [
    "tf.summary.scalar(\"loss\", loss)\n",
    "tf.summary.scalar(\"accuracy\", accuracy)\n",
    "# Merge all summaries into a single op\n",
    "merged_summary_op = tf.summary.merge_all()"
   ]
  },
  {
   "cell_type": "markdown",
   "metadata": {},
   "source": [
    "## Train Network"
   ]
  },
  {
   "cell_type": "code",
   "execution_count": 10,
   "metadata": {
    "collapsed": false
   },
   "outputs": [
    {
     "name": "stdout",
     "output_type": "stream",
     "text": [
      "Epoch 1/10: loss=1.702, accuracy=0.776\n",
      "Epoch 2/10: loss=1.579, accuracy=0.887\n",
      "Epoch 3/10: loss=1.563, accuracy=0.900\n",
      "Epoch 4/10: loss=1.554, accuracy=0.909\n",
      "Epoch 5/10: loss=1.549, accuracy=0.913\n",
      "Epoch 6/10: loss=1.546, accuracy=0.916\n",
      "Epoch 7/10: loss=1.543, accuracy=0.918\n",
      "Epoch 8/10: loss=1.541, accuracy=0.921\n",
      "Epoch 9/10: loss=1.540, accuracy=0.921\n",
      "Epoch 10/10: loss=1.537, accuracy=0.924\n"
     ]
    }
   ],
   "source": [
    "history = []\n",
    "with tf.Session() as sess:\n",
    "    \n",
    "    sess.run(tf.global_variables_initializer())\n",
    "    saver = tf.train.Saver()\n",
    "    logger = tf.summary.FileWriter(LOG_DIR, sess.graph)\n",
    "\n",
    "    train_gen = datagen(Xtrain, ytrain, BATCH_SIZE)\n",
    "    num_batches = len(Xtrain) // BATCH_SIZE\n",
    "    for epoch in range(NUM_EPOCHS):\n",
    "        total_loss, total_acc = 0., 0.\n",
    "        for bid in range(num_batches):\n",
    "            # train\n",
    "            Xbatch, Ybatch = train_gen.next()\n",
    "            _, batch_loss, batch_acc, Ybatch_, summary = sess.run(\n",
    "                [optimizer, loss, accuracy, Y_, merged_summary_op], \n",
    "                feed_dict={X: Xbatch, Y:Ybatch})\n",
    "            # write to tensorboard\n",
    "            logger.add_summary(summary, epoch * num_batches + bid)\n",
    "            # accumulate for reporting\n",
    "            total_loss += batch_loss\n",
    "            total_acc += batch_acc\n",
    "\n",
    "        total_loss /= num_batches\n",
    "        total_acc /= num_batches\n",
    "        print(\"Epoch {:d}/{:d}: loss={:.3f}, accuracy={:.3f}\".format(\n",
    "            (epoch + 1), NUM_EPOCHS, total_loss, total_acc))\n",
    "        \n",
    "        saver.save(sess, MODEL_FILE, (epoch + 1))\n",
    "        history.append((total_loss, total_acc))\n",
    "        \n",
    "    logger.close()"
   ]
  },
  {
   "cell_type": "code",
   "execution_count": 11,
   "metadata": {
    "collapsed": false
   },
   "outputs": [
    {
     "data": {
      "image/png": "[encoded data removed]",
      "text/plain": [
       "<matplotlib.figure.Figure at 0x7fe44845e590>"
      ]
     },
     "metadata": {},
     "output_type": "display_data"
    }
   ],
   "source": [
    "losses = [x[0] for x in history]\n",
    "accs = [x[1] for x in history]\n",
    "\n",
    "plt.subplot(211)\n",
    "plt.title(\"Accuracy\")\n",
    "plt.plot(accs)\n",
    "\n",
    "plt.subplot(212)\n",
    "plt.title(\"Loss\")\n",
    "plt.plot(losses)\n",
    "\n",
    "plt.tight_layout()\n",
    "plt.show()"
   ]
  },
  {
   "cell_type": "markdown",
   "metadata": {},
   "source": [
    "## Visualize with Tensorboard\n",
    "\n",
    "We have also requested the total_loss and total_accuracy scalars to be logged in our computational graph, so the above charts can also be seen from the built-in tensorboard tool. The scalars are logged to the directory given by LOG_DIR, so we can start the tensorboard tool from the command line:\n",
    "\n",
    "    $ cd ../../data\n",
    "    $ tensorboard --logdir=tf-mnist-fcn-logs\n",
    "    Starting TensorBoard 54 at http://localhost:6006\n",
    "    (Press CTRL+C to quit)\n",
    "    \n",
    "We can then view the [visualizations on tensorboard] (http://localhost:6006)"
   ]
  },
  {
   "cell_type": "markdown",
   "metadata": {},
   "source": [
    "## Evaluate Network"
   ]
  },
  {
   "cell_type": "code",
   "execution_count": 12,
   "metadata": {
    "collapsed": false
   },
   "outputs": [
    {
     "name": "stdout",
     "output_type": "stream",
     "text": [
      "INFO:tensorflow:Restoring parameters from ../../data/tf-mnist-fcn-10\n",
      "Accuracy: 0.9279\n",
      "Confusion Matrix\n",
      "[[5654    0   63    6    9   62   75   10   31   31]\n",
      " [   0 6692   34   21   17   13   21   89   70   53]\n",
      " [  26   24 5674  110   46   14   41  109   48   12]\n",
      " [  12   15  112 5509    4  148    2   61   65   48]\n",
      " [   3    3   49    2 5467   37   45   33   56  274]\n",
      " [  38    3    4  187    9 4806   59    7  121   94]\n",
      " [  68   24   44   12   79   92 5475    2   80   11]\n",
      " [  28    6   77   66   12   21    1 5679   40   89]\n",
      " [  35   32  117   92   51  122   24   32 5269   74]\n",
      " [   6    2    5   43  184   28    0  139   53 5362]]\n"
     ]
    }
   ],
   "source": [
    "BEST_MODEL = os.path.join(DATA_DIR, \"tf-mnist-fcn-10\")\n",
    "saver = tf.train.Saver()\n",
    "ys, ys_ = [], []\n",
    "with tf.Session() as sess:\n",
    "    sess.run(tf.global_variables_initializer())\n",
    "    saver.restore(sess, BEST_MODEL)\n",
    "    test_gen = datagen(Xtest, ytest, BATCH_SIZE)\n",
    "    val_loss, val_acc = 0., 0.\n",
    "    num_batches = len(Xtrain) // BATCH_SIZE\n",
    "    for _ in range(num_batches):\n",
    "        Xbatch, Ybatch = test_gen.next()\n",
    "        Ybatch_ = sess.run(Y_, feed_dict={X: Xbatch, Y:Ybatch})\n",
    "        ys.extend(np.argmax(Ybatch, axis=1))\n",
    "        ys_.extend(np.argmax(Ybatch_, axis=1))\n",
    "\n",
    "acc = accuracy_score(ys_, ys)\n",
    "cm = confusion_matrix(ys_, ys)\n",
    "print(\"Accuracy: {:.4f}\".format(acc))\n",
    "print(\"Confusion Matrix\")\n",
    "print(cm)"
   ]
  },
  {
   "cell_type": "code",
   "execution_count": null,
   "metadata": {
    "collapsed": true
   },
   "outputs": [],
   "source": []
  }
 ],
 "metadata": {
  "anaconda-cloud": {},
  "kernelspec": {
   "display_name": "Python [default]",
   "language": "python",
   "name": "python2"
  },
  "language_info": {
   "codemirror_mode": {
    "name": "ipython",
    "version": 2
   },
   "file_extension": ".py",
   "mimetype": "text/x-python",
   "name": "python",
   "nbconvert_exporter": "python",
   "pygments_lexer": "ipython2",
   "version": "2.7.12"
  }
 },
 "nbformat": 4,
 "nbformat_minor": 0
}
