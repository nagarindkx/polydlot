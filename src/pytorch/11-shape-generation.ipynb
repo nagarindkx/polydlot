{
 "cells": [
  {
   "cell_type": "markdown",
   "metadata": {},
   "source": [
    "# Shape Generation Problem\n",
    "\n",
    "This is the sixth (and final) toy example from Jason Brownlee's [Long Short Term Memory Networks with Python](https://machinelearningmastery.com/lstms-with-python/). We will train a network to generate rectangles. Per section 11.2 of the book:\n",
    "\n",
    "> We can frame the problem of generating random shapes as a sequence generation problem. We\n",
    "can take drawing a rectangle as a sequence of points in the clockwise direction with 4 points in two-dimensional space. So to generatate a rectangle given by the points [BL, BR, TR, TL], the input sequence is [BL, BR, TR] and corresponding output sequence at these timesteps is [BR', TR', TL'].\n",
    "\n",
    "> Each point can be taken as one time step, with each of the x and y axes representing\n",
    "separate features. Starting from 0,0, the task is to draw the remaining 3 points of the rectangle with consistent widths and heights. We will frame this problem as a one-coordinate generation problem, e.g. a one-to-one sequence prediction problem. Given a coordinate, predict the next coordinate. Then given the coordinate predicted at the last time step, predict the next coordinate, and so on."
   ]
  },
  {
   "cell_type": "code",
   "execution_count": 1,
   "metadata": {
    "collapsed": true
   },
   "outputs": [],
   "source": [
    "from __future__ import division, print_function\n",
    "from sklearn.metrics import accuracy_score, confusion_matrix\n",
    "import torch\n",
    "import torch.nn as nn\n",
    "import torch.nn.functional as F\n",
    "from torch.autograd import Variable\n",
    "import numpy as np\n",
    "import matplotlib as mat\n",
    "import matplotlib.pyplot as plt\n",
    "import os\n",
    "import shutil\n",
    "%matplotlib inline"
   ]
  },
  {
   "cell_type": "code",
   "execution_count": 2,
   "metadata": {
    "collapsed": true
   },
   "outputs": [],
   "source": [
    "DATA_DIR = \"../../data\"\n",
    "MODEL_FILE = os.path.join(DATA_DIR, \"torch-11-shape-gen.model\")\n",
    "\n",
    "TRAIN_SIZE = 25000\n",
    "TEST_SIZE = 10\n",
    "\n",
    "# model expects 1 timestep input with (x, y) as features\n",
    "# each batch is sequence of 3 input => 3 output coordinates\n",
    "# we train for TRAIN_SIZE epochs\n",
    "SEQ_LENGTH = 1\n",
    "EMBED_SIZE = 2\n",
    "BATCH_SIZE = 3\n",
    "\n",
    "LEARNING_RATE = 1e-3"
   ]
  },
  {
   "cell_type": "markdown",
   "metadata": {},
   "source": [
    "## Prepare Data\n",
    "\n",
    "Coordinates corresponding to random rectangles are generated using rules for training the network. Data is generated in (num_epoch, num_batches, sequence_length, num_features) format. This is because we are training the network to generate one coordinate at a time, so each batch corresponds to a single rectangle (3 moves)."
   ]
  },
  {
   "cell_type": "code",
   "execution_count": 3,
   "metadata": {},
   "outputs": [
    {
     "data": {
      "image/png": "[encoded data removed]",
      "text/plain": [
       "<matplotlib.figure.Figure at 0x10ce0cf90>"
      ]
     },
     "metadata": {},
     "output_type": "display_data"
    }
   ],
   "source": [
    "def draw_rectangles(points_seq):\n",
    "    fig, ax = plt.subplots()\n",
    "    polygons = []\n",
    "    for points in points_seq:\n",
    "        polygons.append(mat.patches.Polygon(points, closed=True, fill=True))\n",
    "    patches = mat.collections.PatchCollection(polygons, cmap=mat.cm.jet, alpha=0.4)\n",
    "    colors = 100 * np.random.rand(len(polygons))\n",
    "    patches.set_array(np.array(colors))    \n",
    "    ax.add_collection(patches)\n",
    "    plt.show()\n",
    "\n",
    "def random_rectangle():\n",
    "    bl = (0, 0)\n",
    "    br = (np.random.random(1), bl[1])\n",
    "    tr = (br[0], np.random.random(1))\n",
    "    tl = (0, tr[1])\n",
    "    return [bl, br, tr, tl]\n",
    "\n",
    "rectangles = []\n",
    "for i in range(5):\n",
    "    rectangles.append(random_rectangle())\n",
    "draw_rectangles(rectangles)"
   ]
  },
  {
   "cell_type": "code",
   "execution_count": 4,
   "metadata": {},
   "outputs": [
    {
     "name": "stdout",
     "output_type": "stream",
     "text": [
      "(25000, 3, 1, 2) (25000, 3, 1, 2) (10, 3, 1, 2) (10, 3, 1, 2)\n"
     ]
    }
   ],
   "source": [
    "def generate_data(num_recs):\n",
    "    xseq, yseq = [], []\n",
    "    for i in range(num_recs):\n",
    "        rect = random_rectangle()\n",
    "        xseq.append(np.array(rect[0:-1]))\n",
    "        yseq.append(np.array(rect[1:]))\n",
    "    X = np.expand_dims(np.array(xseq, dtype=np.float32), 2)\n",
    "    Y = np.expand_dims(np.array(yseq, dtype=np.float32), 2)\n",
    "    return X, Y\n",
    "\n",
    "Xtrain, Ytrain = generate_data(TRAIN_SIZE)\n",
    "Xtest, Ytest = generate_data(TEST_SIZE)\n",
    "\n",
    "print(Xtrain.shape, Ytrain.shape, Xtest.shape, Ytest.shape)"
   ]
  },
  {
   "cell_type": "markdown",
   "metadata": {},
   "source": [
    "## Define Network"
   ]
  },
  {
   "cell_type": "code",
   "execution_count": 5,
   "metadata": {},
   "outputs": [
    {
     "name": "stdout",
     "output_type": "stream",
     "text": [
      "ShapeGenerator (\n",
      "  (lstm): LSTM(2, 10, batch_first=True)\n",
      "  (fcn): Linear (10 -> 2)\n",
      ")\n",
      "--- size debugging ---\n",
      "torch.Size([3, 1, 2])\n"
     ]
    }
   ],
   "source": [
    "class ShapeGenerator(nn.Module):\n",
    "    \n",
    "    def __init__(self, input_dim, hidden_dim, output_dim):\n",
    "        super(ShapeGenerator, self).__init__()\n",
    "        self.hidden_dim = hidden_dim\n",
    "        # network layers\n",
    "        self.lstm = nn.LSTM(input_dim, hidden_dim, 1, batch_first=True)\n",
    "        self.fcn = nn.Linear(hidden_dim, output_dim)\n",
    "    \n",
    "    def forward(self, x):\n",
    "        if torch.cuda.is_available():\n",
    "            h = (Variable(torch.randn(1, x.size(0), self.hidden_dim).cuda()),\n",
    "                 Variable(torch.randn(1, x.size(0), self.hidden_dim).cuda()))\n",
    "        else:\n",
    "            h = (Variable(torch.randn(1, x.size(0), self.hidden_dim)),\n",
    "                 Variable(torch.randn(1, x.size(0), self.hidden_dim)))\n",
    "\n",
    "        x, h = self.lstm(x, h)\n",
    "        x = self.fcn(x)\n",
    "        return x\n",
    "\n",
    "model = ShapeGenerator(EMBED_SIZE, 10, EMBED_SIZE)\n",
    "if torch.cuda.is_available():\n",
    "    model.cuda()\n",
    "print(model)\n",
    "\n",
    "# size debugging\n",
    "print(\"--- size debugging ---\")\n",
    "inp = Variable(torch.randn(BATCH_SIZE, SEQ_LENGTH, EMBED_SIZE))\n",
    "outp = model(inp)\n",
    "print(outp.size())"
   ]
  },
  {
   "cell_type": "code",
   "execution_count": 6,
   "metadata": {
    "collapsed": true
   },
   "outputs": [],
   "source": [
    "loss_fn = nn.MSELoss()\n",
    "optimizer = torch.optim.Adam(model.parameters(), lr=LEARNING_RATE)"
   ]
  },
  {
   "cell_type": "markdown",
   "metadata": {},
   "source": [
    "## Train Network"
   ]
  },
  {
   "cell_type": "code",
   "execution_count": 7,
   "metadata": {},
   "outputs": [
    {
     "name": "stdout",
     "output_type": "stream",
     "text": [
      "Iteration  2500, cum. avg. loss: 0.220\n",
      "Iteration  5000, cum. avg. loss: 0.218\n",
      "Iteration  7500, cum. avg. loss: 0.220\n",
      "Iteration 10000, cum. avg. loss: 0.221\n",
      "Iteration 12500, cum. avg. loss: 0.222\n",
      "Iteration 15000, cum. avg. loss: 0.222\n",
      "Iteration 17500, cum. avg. loss: 0.222\n",
      "Iteration 20000, cum. avg. loss: 0.221\n",
      "Iteration 22500, cum. avg. loss: 0.221\n",
      "Iteration 24999, cum. avg. loss: 0.220\n"
     ]
    }
   ],
   "source": [
    "history = []\n",
    "total_loss, prev_loss = 0., None\n",
    "for epoch in range(TRAIN_SIZE):\n",
    "    \n",
    "    Xbatch_data = Xtrain[epoch]\n",
    "    Ybatch_data = Ytrain[epoch]\n",
    "    \n",
    "    Xbatch = Variable(torch.from_numpy(Xbatch_data).float())\n",
    "    Ybatch = Variable(torch.from_numpy(Ybatch_data).float())\n",
    "    if torch.cuda.is_available():\n",
    "        Xbatch = Xbatch.cuda()\n",
    "        Ybatch = Ybatch.cuda()\n",
    "    \n",
    "    # initialize gradients\n",
    "    optimizer.zero_grad()\n",
    "    \n",
    "    # forward\n",
    "    Ybatch_ = model(Xbatch)\n",
    "    loss = loss_fn(Ybatch_, Ybatch)\n",
    "    loss_data = loss.data[0]\n",
    "    total_loss += loss_data\n",
    "    \n",
    "    # backward\n",
    "    loss.backward()\n",
    "    \n",
    "    if epoch > 0 and (epoch % (TRAIN_SIZE // 10) == 0 or epoch == TRAIN_SIZE - 1):\n",
    "        cum_avg_loss = total_loss / epoch\n",
    "        history.append((epoch, cum_avg_loss))\n",
    "        if prev_loss is not None and prev_loss > cum_avg_loss:\n",
    "            torch.save(model.state_dict(), MODEL_FILE)\n",
    "        prev_loss = cum_avg_loss\n",
    "        print(\"Iteration {:5d}, cum. avg. loss: {:.3f}\".format(epoch, cum_avg_loss))"
   ]
  },
  {
   "cell_type": "code",
   "execution_count": 8,
   "metadata": {},
   "outputs": [
    {
     "data": {
      "image/png": "[encoded data removed]",
      "text/plain": [
       "<matplotlib.figure.Figure at 0x10cd73f50>"
      ]
     },
     "metadata": {},
     "output_type": "display_data"
    }
   ],
   "source": [
    "plt.title(\"Loss\")\n",
    "epochs = [x[0] for x in history]\n",
    "losses = [x[1] for x in history]\n",
    "plt.plot(epochs, losses, color=\"r\", label=\"train\")\n",
    "plt.legend(loc=\"best\")\n",
    "\n",
    "plt.show()"
   ]
  },
  {
   "cell_type": "markdown",
   "metadata": {},
   "source": [
    "## Generate Shapes"
   ]
  },
  {
   "cell_type": "code",
   "execution_count": 9,
   "metadata": {
    "collapsed": true
   },
   "outputs": [],
   "source": [
    "saved_model = ShapeGenerator(EMBED_SIZE, 10, EMBED_SIZE)\n",
    "saved_model.load_state_dict(torch.load(MODEL_FILE))\n",
    "if torch.cuda.is_available():\n",
    "    saved_model.cuda()"
   ]
  },
  {
   "cell_type": "code",
   "execution_count": 10,
   "metadata": {},
   "outputs": [
    {
     "data": {
      "image/png": "[encoded data removed]",
      "text/plain": [
       "<matplotlib.figure.Figure at 0x10ce421d0>"
      ]
     },
     "metadata": {},
     "output_type": "display_data"
    }
   ],
   "source": [
    "coord_seqs = []\n",
    "for rect in range(TEST_SIZE):\n",
    "    coord_seq = [(0., 0.)]\n",
    "    for seq in range(Xtest[rect].shape[0]):\n",
    "        Xgen_data = np.expand_dims(Xtest[rect, seq, :], 1)\n",
    "        Xgen = Variable(torch.from_numpy(Xgen_data).float())\n",
    "        if torch.cuda.is_available():\n",
    "            Xgen = Xgen.cuda()\n",
    "        Ygen = saved_model(Xgen)\n",
    "        if torch.cuda.is_available():\n",
    "            Ygen_data = Ygen.cpu().data.numpy()\n",
    "        else:\n",
    "            Ygen_data = Ygen.data.numpy()\n",
    "        coord_seq.append((Ygen_data[0, 0, 0], Ygen_data[0, 0, 1]))\n",
    "        \n",
    "    coord_seqs.append(coord_seq)\n",
    "    \n",
    "draw_rectangles(coord_seqs)"
   ]
  },
  {
   "cell_type": "code",
   "execution_count": 11,
   "metadata": {
    "collapsed": true
   },
   "outputs": [],
   "source": [
    "os.remove(MODEL_FILE)"
   ]
  }
 ],
 "metadata": {
  "kernelspec": {
   "display_name": "Python 2",
   "language": "python",
   "name": "python2"
  },
  "language_info": {
   "codemirror_mode": {
    "name": "ipython",
    "version": 2
   },
   "file_extension": ".py",
   "mimetype": "text/x-python",
   "name": "python",
   "nbconvert_exporter": "python",
   "pygments_lexer": "ipython2",
   "version": "2.7.13"
  }
 },
 "nbformat": 4,
 "nbformat_minor": 2
}
