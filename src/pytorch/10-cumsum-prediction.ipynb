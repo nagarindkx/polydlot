{
 "cells": [
  {
   "cell_type": "markdown",
   "metadata": {},
   "source": [
    "# Cumulative Sum Prediction\n",
    "\n",
    "This is the fifth toy example from Jason Brownlee's [Long Short Term Memory Networks with Python](https://machinelearningmastery.com/lstms-with-python/). It demonstrates the solution to a sequence-to-sequence (aka seq2seq) prediction problem. Per section 10.2 of the book:\n",
    "\n",
    "> The problem is defined as a sequence of random values between 0 and 1. This sequence is taken as input for the problem with each number provided once per time step. A binary label (0 or 1) is associated with each input. The output values are initially all 0. Once the cumulative sum of the input values in the sequence exceeds a threshold, then the output value  flips from 0 to 1. A threshold of one quarter (1/4) of the sequence length is used, so for a sequence of length 10, the threshold is 2.5.\n",
    "\n",
    "> We will frame the problem to make the best use of the Bidirectional LSTM architecture.\n",
    "The output sequence will be produced after the entire input sequence has been fed into the\n",
    "model. Technically, this means this is a sequence-to-sequence prediction problem that requires\n",
    "a many-to-many prediction model. It is also the case that the input and output sequences have\n",
    "the same number of time steps (length)."
   ]
  },
  {
   "cell_type": "code",
   "execution_count": 1,
   "metadata": {
    "collapsed": true
   },
   "outputs": [],
   "source": [
    "from __future__ import division, print_function\n",
    "from sklearn.metrics import accuracy_score, confusion_matrix\n",
    "import torch\n",
    "import torch.nn as nn\n",
    "import torch.nn.functional as F\n",
    "from torch.autograd import Variable\n",
    "import numpy as np\n",
    "import matplotlib.pyplot as plt\n",
    "import os\n",
    "import shutil\n",
    "%matplotlib inline"
   ]
  },
  {
   "cell_type": "code",
   "execution_count": 2,
   "metadata": {
    "collapsed": true
   },
   "outputs": [],
   "source": [
    "DATA_DIR = \"../../data\"\n",
    "MODEL_FILE = os.path.join(DATA_DIR, \"torch-10-cumsum-predict-{:d}.model\")\n",
    "\n",
    "TRAIN_SIZE = 7500\n",
    "VAL_SIZE = 100\n",
    "TEST_SIZE = 500\n",
    "\n",
    "SEQ_LENGTH = 10\n",
    "EMBED_SIZE = 1\n",
    "\n",
    "BATCH_SIZE = 32\n",
    "NUM_EPOCHS = 10\n",
    "LEARNING_RATE = 1e-3"
   ]
  },
  {
   "cell_type": "markdown",
   "metadata": {},
   "source": [
    "## Prepare Data"
   ]
  },
  {
   "cell_type": "code",
   "execution_count": 3,
   "metadata": {},
   "outputs": [
    {
     "name": "stdout",
     "output_type": "stream",
     "text": [
      "[ 0.04742344  0.93090249  0.47292869  0.34986938  0.27752548  0.22485943\n",
      "  0.05711298  0.38595953  0.78495727  0.13500855]\n",
      "[0 0 0 0 0 0 0 1 1 1]\n"
     ]
    }
   ],
   "source": [
    "def generate_sequence(seq_len):\n",
    "    xs = np.random.random(seq_len)\n",
    "    ys = np.array([0 if x < 2.5 else 1 for x in np.cumsum(xs).tolist()])\n",
    "    return xs, ys\n",
    "\n",
    "X, Y = generate_sequence(SEQ_LENGTH)\n",
    "print(X)\n",
    "print(Y)"
   ]
  },
  {
   "cell_type": "code",
   "execution_count": 4,
   "metadata": {},
   "outputs": [
    {
     "name": "stdout",
     "output_type": "stream",
     "text": [
      "(7500, 10, 1) (7500, 10) (100, 10, 1) (100, 10) (500, 10, 1) (500, 10)\n"
     ]
    }
   ],
   "source": [
    "def generate_data(seq_len, num_seqs):\n",
    "    xseq, yseq = [], []\n",
    "    for i in range(num_seqs):\n",
    "        X, Y = generate_sequence(seq_len)\n",
    "        xseq.append(X)\n",
    "        yseq.append(Y)\n",
    "    return np.expand_dims(np.array(xseq), axis=2), np.array(yseq)\n",
    "\n",
    "Xtrain, Ytrain = generate_data(SEQ_LENGTH, TRAIN_SIZE)\n",
    "Xval, Yval = generate_data(SEQ_LENGTH, VAL_SIZE)\n",
    "Xtest, Ytest = generate_data(SEQ_LENGTH, TEST_SIZE)\n",
    "\n",
    "print(Xtrain.shape, Ytrain.shape, Xval.shape, Yval.shape, Xtest.shape, Ytest.shape)"
   ]
  },
  {
   "cell_type": "markdown",
   "metadata": {},
   "source": [
    "## Define Network\n",
    "\n",
    "The sequence length for the input and output sequences are the same size. Our network follows the model built (using Keras) in the book. Unlike the typical encoder-decoder LSTM architecture that is used for most seq2seq problems, here we have a single LSTM followed by a FCN layer at each timestep of its output. Each FCN returns a binary 0/1 output, which is concatenated to produce the predicted result."
   ]
  },
  {
   "cell_type": "code",
   "execution_count": 5,
   "metadata": {},
   "outputs": [
    {
     "name": "stdout",
     "output_type": "stream",
     "text": [
      "CumSumPredictor (\n",
      "  (enc_lstm): LSTM(1, 50, batch_first=True, bidirectional=True)\n",
      "  (fcn): Linear (100 -> 2)\n",
      "  (fcn_relu): ReLU ()\n",
      "  (fcn_softmax): Softmax ()\n",
      ")\n",
      "--- size debugging ---\n",
      "torch.Size([32, 10, 2])\n"
     ]
    }
   ],
   "source": [
    "class CumSumPredictor(nn.Module):\n",
    "    \n",
    "    def __init__(self, seq_len, input_dim, hidden_dim, output_dim):\n",
    "        super(CumSumPredictor, self).__init__()\n",
    "        self.seq_len = seq_len\n",
    "        self.hidden_dim = hidden_dim\n",
    "        self.output_dim = output_dim\n",
    "        # network layers\n",
    "        self.enc_lstm = nn.LSTM(input_dim, hidden_dim, 1, batch_first=True, \n",
    "                                bidirectional=True)\n",
    "        self.fcn = nn.Linear(hidden_dim * 2, output_dim)  # bidirectional input\n",
    "        self.fcn_relu = nn.ReLU()\n",
    "        self.fcn_softmax = nn.Softmax()\n",
    "    \n",
    "    def forward(self, x):\n",
    "        if torch.cuda.is_available():\n",
    "            h = (Variable(torch.randn(2, x.size(0), self.hidden_dim).cuda()),\n",
    "                 Variable(torch.randn(2, x.size(0), self.hidden_dim).cuda()))\n",
    "        else:\n",
    "            h = (Variable(torch.randn(2, x.size(0), self.hidden_dim)),\n",
    "                 Variable(torch.randn(2, x.size(0), self.hidden_dim)))\n",
    "\n",
    "        x, h = self.enc_lstm(x, h)       # encoder LSTM\n",
    "        x_fcn = Variable(torch.zeros(x.size(0), self.seq_len, self.output_dim))\n",
    "        for i in range(self.seq_len):    # decoder LSTM -> fcn for each timestep\n",
    "            x_fcn[:, i, :] = self.fcn_softmax(self.fcn_relu(self.fcn(x[:, i, :])))\n",
    "        x = x_fcn        \n",
    "        return x\n",
    "    \n",
    "model = CumSumPredictor(SEQ_LENGTH, EMBED_SIZE, 50, 2)\n",
    "if torch.cuda.is_available():\n",
    "    model.cuda()\n",
    "print(model)\n",
    "\n",
    "# size debugging\n",
    "print(\"--- size debugging ---\")\n",
    "inp = Variable(torch.randn(BATCH_SIZE, SEQ_LENGTH, EMBED_SIZE))\n",
    "outp = model(inp)\n",
    "print(outp.size())"
   ]
  },
  {
   "cell_type": "code",
   "execution_count": 6,
   "metadata": {
    "collapsed": true
   },
   "outputs": [],
   "source": [
    "loss_fn = nn.CrossEntropyLoss()\n",
    "optimizer = torch.optim.Adam(model.parameters(), lr=LEARNING_RATE)"
   ]
  },
  {
   "cell_type": "markdown",
   "metadata": {},
   "source": [
    "## Train Network"
   ]
  },
  {
   "cell_type": "code",
   "execution_count": 7,
   "metadata": {},
   "outputs": [
    {
     "name": "stdout",
     "output_type": "stream",
     "text": [
      "Epoch  1/10: loss=4.743, acc=0.254, val_loss=4.109, val_acc=0.323\n",
      "Epoch  2/10: loss=3.827, acc=0.464, val_loss=3.728, val_acc=0.510\n",
      "Epoch  3/10: loss=3.640, acc=0.569, val_loss=3.647, val_acc=0.521\n",
      "Epoch  4/10: loss=3.562, acc=0.627, val_loss=3.597, val_acc=0.594\n",
      "Epoch  5/10: loss=3.527, acc=0.651, val_loss=3.570, val_acc=0.635\n",
      "Epoch  6/10: loss=3.500, acc=0.676, val_loss=3.542, val_acc=0.667\n",
      "Epoch  7/10: loss=3.484, acc=0.684, val_loss=3.496, val_acc=0.635\n",
      "Epoch  8/10: loss=3.460, acc=0.706, val_loss=3.580, val_acc=0.552\n",
      "Epoch  9/10: loss=3.454, acc=0.710, val_loss=3.468, val_acc=0.708\n",
      "Epoch 10/10: loss=3.433, acc=0.731, val_loss=3.469, val_acc=0.719\n"
     ]
    }
   ],
   "source": [
    "def compute_accuracy(pred_var, true_var):\n",
    "    if torch.cuda.is_available():\n",
    "        ypred = pred_var.cpu().data.numpy()\n",
    "        ytrue = true_var.cpu().data.numpy()\n",
    "    else:\n",
    "        ypred = pred_var.data.numpy()\n",
    "        ytrue = true_var.data.numpy()\n",
    "    pred_nums, true_nums = [], []\n",
    "    for i in range(pred_var.size(0)): # for each row of output\n",
    "        pred_nums.append(int(\"\".join([str(x) for x in ypred[i].tolist()]), 2))\n",
    "        true_nums.append(int(\"\".join([str(x) for x in ytrue[i].tolist()]), 2))\n",
    "    return pred_nums, true_nums, accuracy_score(pred_nums, true_nums)\n",
    "\n",
    "\n",
    "history = []\n",
    "for epoch in range(NUM_EPOCHS):\n",
    "    \n",
    "    num_batches = Xtrain.shape[0] // BATCH_SIZE\n",
    "    shuffled_indices = np.random.permutation(np.arange(Xtrain.shape[0]))\n",
    "    train_loss, train_acc = 0., 0.\n",
    "    \n",
    "    for bid in range(num_batches):\n",
    "        \n",
    "        # extract one batch of data\n",
    "        Xbatch_data = Xtrain[shuffled_indices[bid * BATCH_SIZE : (bid + 1) * BATCH_SIZE]]\n",
    "        Ybatch_data = Ytrain[shuffled_indices[bid * BATCH_SIZE : (bid + 1) * BATCH_SIZE]]\n",
    "        Xbatch = Variable(torch.from_numpy(Xbatch_data).float())\n",
    "        Ybatch = Variable(torch.from_numpy(Ybatch_data).long())\n",
    "        if torch.cuda.is_available():\n",
    "            Xbatch = Xbatch.cuda()\n",
    "            Ybatch = Ybatch.cuda()\n",
    "        \n",
    "        # initialize gradients\n",
    "        optimizer.zero_grad()\n",
    "\n",
    "        # forward\n",
    "        loss = 0.\n",
    "        Ybatch_ = model(Xbatch)\n",
    "        for i in range(Ybatch.size(1)):\n",
    "            loss += loss_fn(Ybatch_[:, i, :], Ybatch[:, i])\n",
    "        \n",
    "        # backward\n",
    "        loss.backward()\n",
    "\n",
    "        train_loss += loss.data[0]\n",
    "        \n",
    "        _, ybatch_ = Ybatch_.max(2)\n",
    "        _, _, acc = compute_accuracy(ybatch_, Ybatch)\n",
    "        train_acc += acc\n",
    "        \n",
    "        optimizer.step()\n",
    "        \n",
    "    # compute training loss and accuracy\n",
    "    train_loss /= num_batches\n",
    "    train_acc /= num_batches\n",
    "    \n",
    "    # compute validation loss and accuracy\n",
    "    val_loss, val_acc = 0., 0.\n",
    "    num_val_batches = Xval.shape[0] // BATCH_SIZE\n",
    "    for bid in range(num_val_batches):\n",
    "        # data\n",
    "        Xbatch_data = Xval[bid * BATCH_SIZE : (bid + 1) * BATCH_SIZE]\n",
    "        Ybatch_data = Yval[bid * BATCH_SIZE : (bid + 1) * BATCH_SIZE]\n",
    "        Xbatch = Variable(torch.from_numpy(Xbatch_data).float())\n",
    "        Ybatch = Variable(torch.from_numpy(Ybatch_data).long())\n",
    "        if torch.cuda.is_available():\n",
    "            Xbatch = Xbatch.cuda()\n",
    "            Ybatch = Ybatch.cuda()\n",
    "\n",
    "        loss = 0.\n",
    "        Ybatch_ = model(Xbatch)\n",
    "        for i in range(Ybatch.size(1)):\n",
    "            loss += loss_fn(Ybatch_[:, i, :], Ybatch[:, i])\n",
    "        val_loss += loss.data[0]\n",
    "\n",
    "        _, ybatch_ = Ybatch_.max(2)\n",
    "        _, _, acc = compute_accuracy(ybatch_, Ybatch)\n",
    "        val_acc += acc\n",
    "        \n",
    "    val_loss /= num_val_batches\n",
    "    val_acc /= num_val_batches\n",
    "    \n",
    "    torch.save(model.state_dict(), MODEL_FILE.format(epoch+1))\n",
    "    print(\"Epoch {:2d}/{:d}: loss={:.3f}, acc={:.3f}, val_loss={:.3f}, val_acc={:.3f}\"\n",
    "          .format((epoch+1), NUM_EPOCHS, train_loss, train_acc, val_loss, val_acc))\n",
    "    \n",
    "    history.append((train_loss, val_loss, train_acc, val_acc))"
   ]
  },
  {
   "cell_type": "code",
   "execution_count": 8,
   "metadata": {},
   "outputs": [
    {
     "data": {
      "image/png": "[encoded data removed]",
      "text/plain": [
       "<matplotlib.figure.Figure at 0x11a37c5d0>"
      ]
     },
     "metadata": {},
     "output_type": "display_data"
    }
   ],
   "source": [
    "losses = [x[0] for x in history]\n",
    "val_losses = [x[1] for x in history]\n",
    "accs = [x[2] for x in history]\n",
    "val_accs = [x[3] for x in history]\n",
    "\n",
    "plt.subplot(211)\n",
    "plt.title(\"Accuracy\")\n",
    "plt.plot(accs, color=\"r\", label=\"train\")\n",
    "plt.plot(val_accs, color=\"b\", label=\"valid\")\n",
    "plt.legend(loc=\"best\")\n",
    "\n",
    "plt.subplot(212)\n",
    "plt.title(\"Loss\")\n",
    "plt.plot(losses, color=\"r\", label=\"train\")\n",
    "plt.plot(val_losses, color=\"b\", label=\"valid\")\n",
    "plt.legend(loc=\"best\")\n",
    "\n",
    "plt.tight_layout()\n",
    "plt.show()"
   ]
  },
  {
   "cell_type": "markdown",
   "metadata": {},
   "source": [
    "## Evaluate Network"
   ]
  },
  {
   "cell_type": "code",
   "execution_count": 9,
   "metadata": {
    "collapsed": true
   },
   "outputs": [],
   "source": [
    "saved_model = CumSumPredictor(SEQ_LENGTH, EMBED_SIZE, 50, 2)\n",
    "saved_model.load_state_dict(torch.load(MODEL_FILE.format(NUM_EPOCHS)))\n",
    "if torch.cuda.is_available():\n",
    "    saved_model.cuda()"
   ]
  },
  {
   "cell_type": "code",
   "execution_count": 10,
   "metadata": {},
   "outputs": [
    {
     "name": "stdout",
     "output_type": "stream",
     "text": [
      "Test accuracy: 0.746\n"
     ]
    }
   ],
   "source": [
    "ylabels, ypreds = [], []\n",
    "num_test_batches = Xtest.shape[0] // BATCH_SIZE\n",
    "for bid in range(num_test_batches):\n",
    "    Xbatch_data = Xtest[bid * BATCH_SIZE : (bid + 1) * BATCH_SIZE]\n",
    "    Ybatch_data = Ytest[bid * BATCH_SIZE : (bid + 1) * BATCH_SIZE]\n",
    "    Xbatch = Variable(torch.from_numpy(Xbatch_data).float())\n",
    "    Ybatch = Variable(torch.from_numpy(Ybatch_data).long())\n",
    "    if torch.cuda.is_available():\n",
    "        Xbatch = Xbatch.cuda()\n",
    "        Ybatch = Ybatch.cuda()\n",
    "\n",
    "    Ybatch_ = saved_model(Xbatch)\n",
    "    _, ybatch_ = Ybatch_.max(2)\n",
    "\n",
    "    pred_nums, true_nums, _ = compute_accuracy(ybatch_, Ybatch)\n",
    "    ylabels.extend(true_nums)\n",
    "    ypreds.extend(pred_nums)\n",
    "\n",
    "print(\"Test accuracy: {:.3f}\".format(accuracy_score(ylabels, ypreds)))"
   ]
  },
  {
   "cell_type": "code",
   "execution_count": 11,
   "metadata": {},
   "outputs": [
    {
     "name": "stdout",
     "output_type": "stream",
     "text": [
      "y=[0 0 0 0 0 0 1 1 1 1], yhat=[0 0 0 0 0 0 1 1 1 1], correct=True\n",
      "y=[0 0 0 0 0 1 1 1 1 1], yhat=[0 0 0 0 0 1 1 1 1 1], correct=True\n",
      "y=[0 0 0 0 0 0 1 1 1 1], yhat=[0 0 0 0 0 0 1 1 1 1], correct=True\n",
      "y=[0 0 0 0 0 0 0 1 1 1], yhat=[0 0 0 0 0 0 0 1 1 1], correct=True\n",
      "y=[0 0 0 0 0 0 1 1 1 1], yhat=[0 0 0 0 0 0 1 1 1 1], correct=True\n",
      "y=[0 0 0 0 0 0 1 1 1 1], yhat=[0 0 0 0 0 0 1 1 1 1], correct=True\n",
      "y=[0 0 0 0 1 1 1 1 1 1], yhat=[0 0 0 0 0 1 1 1 1 1], correct=False\n",
      "y=[0 0 0 0 1 1 1 1 1 1], yhat=[0 0 0 0 1 1 1 1 1 1], correct=True\n",
      "y=[0 0 0 0 1 1 1 1 1 1], yhat=[0 0 0 0 1 1 1 1 1 1], correct=True\n",
      "y=[0 0 0 1 1 1 1 1 1 1], yhat=[0 0 0 1 1 1 1 1 1 1], correct=True\n"
     ]
    }
   ],
   "source": [
    "Xbatch_data = Xtest[0:10]\n",
    "Ybatch_data = Ytest[0:10]\n",
    "Xbatch = Variable(torch.from_numpy(Xbatch_data).float())\n",
    "Ybatch = Variable(torch.from_numpy(Ybatch_data).long())\n",
    "if torch.cuda.is_available():\n",
    "    Xbatch = Xbatch.cuda()\n",
    "    Ybatch = Ybatch.cuda()\n",
    "\n",
    "Ybatch_ = saved_model(Xbatch)\n",
    "_, ybatch_ = Ybatch_.max(2)\n",
    "\n",
    "if torch.cuda.is_available():\n",
    "    ybatch__data = ybatch_.cpu().data.numpy()\n",
    "else:\n",
    "    ybatch__data = ybatch_.data.numpy()\n",
    "\n",
    "for i in range(Ybatch_data.shape[0]):\n",
    "    label = Ybatch_data[i]\n",
    "    pred = ybatch__data[i]\n",
    "    correct = \"True\" if np.array_equal(label, pred) else \"False\"\n",
    "    print(\"y={:s}, yhat={:s}, correct={:s}\".format(str(label), str(pred), correct))"
   ]
  },
  {
   "cell_type": "code",
   "execution_count": 12,
   "metadata": {
    "collapsed": true
   },
   "outputs": [],
   "source": [
    "for i in range(NUM_EPOCHS):\n",
    "    os.remove(MODEL_FILE.format(i + 1))"
   ]
  },
  {
   "cell_type": "code",
   "execution_count": null,
   "metadata": {
    "collapsed": true
   },
   "outputs": [],
   "source": []
  }
 ],
 "metadata": {
  "kernelspec": {
   "display_name": "Python 2",
   "language": "python",
   "name": "python2"
  },
  "language_info": {
   "codemirror_mode": {
    "name": "ipython",
    "version": 2
   },
   "file_extension": ".py",
   "mimetype": "text/x-python",
   "name": "python",
   "nbconvert_exporter": "python",
   "pygments_lexer": "ipython2",
   "version": "2.7.13"
  }
 },
 "nbformat": 4,
 "nbformat_minor": 2
}
