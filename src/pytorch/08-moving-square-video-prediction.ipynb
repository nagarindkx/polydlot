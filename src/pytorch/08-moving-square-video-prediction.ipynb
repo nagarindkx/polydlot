{
 "cells": [
  {
   "cell_type": "markdown",
   "metadata": {},
   "source": [
    "# Moving Square Video Prediction\n",
    "\n",
    "This is the third toy example from Jason Brownlee's [Long Short Term Memory Networks with Python](https://machinelearningmastery.com/lstms-with-python/). It illustrates using a CNN LSTM, ie, an LSTM with input from CNN. Per section 8.2 of the book:\n",
    "\n",
    "> The moving square video prediction problem is contrived to demonstrate the CNN LSTM. The\n",
    "problem involves the generation of a sequence of frames. In each image a line is drawn from left to right or right to left. Each frame shows the extension of the line by one pixel. The task is for the model to classify whether the line moved left or right in the sequence of frames. Technically, the problem is a sequence classification problem framed with a many-to-one prediction model."
   ]
  },
  {
   "cell_type": "code",
   "execution_count": 1,
   "metadata": {
    "collapsed": true
   },
   "outputs": [],
   "source": [
    "from __future__ import division, print_function\n",
    "from sklearn.metrics import accuracy_score, confusion_matrix\n",
    "from sklearn.model_selection import train_test_split\n",
    "from sklearn.preprocessing import OneHotEncoder\n",
    "import torch\n",
    "import torch.nn as nn\n",
    "import torch.nn.functional as F\n",
    "from torch.autograd import Variable\n",
    "import numpy as np\n",
    "import matplotlib.pyplot as plt\n",
    "import os\n",
    "import shutil\n",
    "%matplotlib inline"
   ]
  },
  {
   "cell_type": "code",
   "execution_count": 2,
   "metadata": {},
   "outputs": [],
   "source": [
    "DATA_DIR = \"../../data\"\n",
    "MODEL_FILE = os.path.join(DATA_DIR, \"torch-08-moving-square-{:d}.model\")\n",
    "\n",
    "TRAINING_SIZE = 5000\n",
    "VALIDATION_SIZE = 100\n",
    "TEST_SIZE = 500\n",
    "\n",
    "SEQUENCE_LENGTH = 50\n",
    "FRAME_SIZE = 50\n",
    "\n",
    "BATCH_SIZE = 32\n",
    "\n",
    "NUM_EPOCHS = 5\n",
    "LEARNING_RATE = 1e-3"
   ]
  },
  {
   "cell_type": "markdown",
   "metadata": {},
   "source": [
    "## Prepare Data\n",
    "\n",
    "Our data is going to be batches of sequences of images. Each image will need to be in channel-first format, since Pytorch only supports that format. So our output data will be in the (batch_size, sequence_length, num_channels, height, width) format."
   ]
  },
  {
   "cell_type": "code",
   "execution_count": 3,
   "metadata": {},
   "outputs": [
    {
     "data": {
      "image/png": "[encoded data removed]",
      "text/plain": [
       "<matplotlib.figure.Figure at 0x10e922690>"
      ]
     },
     "metadata": {},
     "output_type": "display_data"
    }
   ],
   "source": [
    "def next_frame(frame, x, y, move_right, upd_int):\n",
    "    frame_size = frame.shape[0]\n",
    "    if x is None and y is None:\n",
    "        x = 0 if (move_right == 1) else (frame_size - 1)\n",
    "        y = np.random.randint(0, frame_size, 1)[0]\n",
    "    else:\n",
    "        if y == 0:\n",
    "            y = np.random.randint(y, y + 1, 1)[0]\n",
    "        elif y == frame_size - 1:\n",
    "            y = np.random.randint(y - 1, y, 1)[0]\n",
    "        else:\n",
    "            y = np.random.randint(y - 1, y + 1, 1)[0]\n",
    "        if move_right:\n",
    "            x = x + 1\n",
    "        else:\n",
    "            x = x - 1\n",
    "    new_frame = frame.copy()\n",
    "    new_frame[y, x] = upd_int\n",
    "    return new_frame, x, y\n",
    "\n",
    "row, col = None, None\n",
    "frame = np.ones((5, 5))\n",
    "move_right = 1 if np.random.random() < 0.5 else 0\n",
    "for i in range(5):\n",
    "    frame, col, row = next_frame(frame, col, row, move_right, 0)\n",
    "    plt.subplot(1, 5, (i+1))\n",
    "    plt.xticks([])\n",
    "    plt.yticks([])\n",
    "    plt.title((col, row, \"R\" if (move_right==1) else \"L\"))\n",
    "    plt.imshow(frame, cmap=\"gray\")\n",
    "plt.tight_layout()\n",
    "plt.show()"
   ]
  },
  {
   "cell_type": "code",
   "execution_count": 4,
   "metadata": {},
   "outputs": [
    {
     "name": "stdout",
     "output_type": "stream",
     "text": [
      "(10, 50, 1, 50, 50) (10,)\n"
     ]
    }
   ],
   "source": [
    "def generate_data(frame_size, sequence_length, num_samples):\n",
    "    assert(frame_size == sequence_length)\n",
    "    xs, ys = [], []\n",
    "    for bid in range(num_samples):\n",
    "        frame_seq = []\n",
    "        row, col = None, None\n",
    "        frame = np.ones((frame_size, frame_size))\n",
    "        move_right = 1 if np.random.random() < 0.5 else 0\n",
    "        for sid in range(sequence_length):\n",
    "            frm, col, row = next_frame(frame, col, row, move_right, 0)\n",
    "            frm = frm.reshape((1, frame_size, frame_size))\n",
    "            frame_seq.append(frm)\n",
    "        xs.append(np.array(frame_seq))\n",
    "        ys.append(move_right)\n",
    "    return np.array(xs), np.array(ys)\n",
    "\n",
    "X, y = generate_data(FRAME_SIZE, SEQUENCE_LENGTH, 10)\n",
    "print(X.shape, y.shape)"
   ]
  },
  {
   "cell_type": "code",
   "execution_count": 5,
   "metadata": {},
   "outputs": [
    {
     "name": "stdout",
     "output_type": "stream",
     "text": [
      "(5000, 50, 1, 50, 50) (5000,) (100, 50, 1, 50, 50) (100,) (500, 50, 1, 50, 50) (500,)\n"
     ]
    }
   ],
   "source": [
    "Xtrain, ytrain = generate_data(FRAME_SIZE, SEQUENCE_LENGTH, TRAINING_SIZE)\n",
    "Xval, yval = generate_data(FRAME_SIZE, SEQUENCE_LENGTH, VALIDATION_SIZE)\n",
    "Xtest, ytest = generate_data(FRAME_SIZE, SEQUENCE_LENGTH, TEST_SIZE)\n",
    "print(Xtrain.shape, ytrain.shape, Xval.shape, yval.shape, Xtest.shape, ytest.shape)"
   ]
  },
  {
   "cell_type": "markdown",
   "metadata": {},
   "source": [
    "## Define Network\n",
    "\n",
    "We want to build a CNN-LSTM network. Each image in the sequence will be fed to a CNN which will learn to produce a feature vector for the image. The sequence of vectors will be fed into an LSTM and the LSTM will learn to generate a context vector that will be then fed into a FCN that will predict if the square is moving left or right.\n",
    "\n",
    "<img src=\"08-network-design.png\"/>"
   ]
  },
  {
   "cell_type": "code",
   "execution_count": 6,
   "metadata": {},
   "outputs": [
    {
     "name": "stdout",
     "output_type": "stream",
     "text": [
      "CNN (\n",
      "  (conv1): Conv2d(1, 2, kernel_size=(2, 2), stride=(1, 1), padding=(1, 1))\n",
      "  (relu1): ReLU ()\n",
      ")\n",
      "--- size debugging ---\n",
      "torch.Size([32, 1250])\n"
     ]
    }
   ],
   "source": [
    "class CNN(nn.Module):\n",
    "    \n",
    "    def __init__(self, input_height, input_width, input_channels, \n",
    "                 output_channels, \n",
    "                 conv_kernel_size, conv_stride, conv_padding,\n",
    "                 pool_size):\n",
    "        super(CNN, self).__init__()\n",
    "        self.conv1 = nn.Conv2d(input_channels, output_channels, \n",
    "                               kernel_size=conv_kernel_size, \n",
    "                               stride=conv_stride, \n",
    "                               padding=conv_padding)\n",
    "        self.relu1 = nn.ReLU()\n",
    "        self.output_height = input_height // pool_size\n",
    "        self.output_width = input_width // pool_size\n",
    "        self.output_channels = output_channels\n",
    "        self.pool_size = pool_size\n",
    "        \n",
    "    def forward(self, x):\n",
    "        x = self.conv1(x)\n",
    "        x = self.relu1(x)\n",
    "        x = F.max_pool2d(x, self.pool_size)\n",
    "        x = x.view(x.size(0), self.output_channels * self.output_height * self.output_width)\n",
    "        return x\n",
    "\n",
    "cnn = CNN(FRAME_SIZE, FRAME_SIZE, 1, 2, 2, 1, 1, 2)\n",
    "print(cnn)\n",
    "\n",
    "# size debugging\n",
    "print(\"--- size debugging ---\")\n",
    "inp = Variable(torch.randn(BATCH_SIZE, 1, FRAME_SIZE, FRAME_SIZE))\n",
    "out = cnn(inp)\n",
    "print(out.size())"
   ]
  },
  {
   "cell_type": "code",
   "execution_count": 7,
   "metadata": {},
   "outputs": [
    {
     "name": "stdout",
     "output_type": "stream",
     "text": [
      "CNNLSTM (\n",
      "  (cnn): CNN (\n",
      "    (conv1): Conv2d(1, 2, kernel_size=(2, 2), stride=(1, 1), padding=(1, 1))\n",
      "    (relu1): ReLU ()\n",
      "  )\n",
      "  (lstm): LSTM(1250, 50, batch_first=True)\n",
      "  (fc): Linear (50 -> 2)\n",
      "  (softmax): Softmax ()\n",
      ")\n",
      "--- size debugging ---\n",
      "torch.Size([32, 2])\n"
     ]
    }
   ],
   "source": [
    "class CNNLSTM(nn.Module):\n",
    "    \n",
    "    def __init__(self, image_size, input_channels, output_channels, \n",
    "                 conv_kernel_size, conv_stride, conv_padding, pool_size, \n",
    "                 seq_length, hidden_size, num_layers, output_size):\n",
    "        super(CNNLSTM, self).__init__()\n",
    "        # capture variables\n",
    "        self.num_layers = num_layers\n",
    "        self.seq_length = seq_length\n",
    "        self.image_size = image_size\n",
    "        self.output_channels = output_channels\n",
    "        self.hidden_size = hidden_size\n",
    "        self.lstm_input_size = output_channels * (image_size // pool_size) ** 2\n",
    "        # define network layers\n",
    "        self.cnn = CNN(image_size, image_size, input_channels, output_channels, \n",
    "                       conv_kernel_size, conv_stride, conv_padding, pool_size)\n",
    "        self.lstm = nn.LSTM(self.lstm_input_size, hidden_size, num_layers, batch_first=True)\n",
    "        self.fc = nn.Linear(hidden_size, output_size)\n",
    "        self.softmax = nn.Softmax()\n",
    "        \n",
    "    def forward(self, x):\n",
    "        if torch.cuda.is_available():\n",
    "            h0 = (Variable(torch.randn(self.num_layers, x.size(0), self.hidden_size).cuda()),\n",
    "                  Variable(torch.randn(self.num_layers, x.size(0), self.hidden_size).cuda()))\n",
    "        else:\n",
    "            h0 = (Variable(torch.randn(self.num_layers, x.size(0), self.hidden_size)),\n",
    "                  Variable(torch.randn(self.num_layers, x.size(0), self.hidden_size)))\n",
    "        \n",
    "        cnn_out = []\n",
    "        for i in range(self.seq_length):\n",
    "            cnn_out.append(self.cnn(x[:, i, :, :, :]))\n",
    "        x = torch.cat(cnn_out, dim=1).view(-1, self.seq_length, self.lstm_input_size)\n",
    "        x, h0 = self.lstm(x, h0)\n",
    "        x = self.fc(x[:, -1, :])\n",
    "        x = self.softmax(x)\n",
    "        return x        \n",
    "\n",
    "model = CNNLSTM(FRAME_SIZE, 1, 2, 2, 1, 1, 2, SEQUENCE_LENGTH, 50, 1, 2)\n",
    "if torch.cuda.is_available():\n",
    "    model.cuda()\n",
    "print(model)\n",
    "\n",
    "# size debugging\n",
    "print(\"--- size debugging ---\")\n",
    "inp = Variable(torch.randn(BATCH_SIZE, SEQUENCE_LENGTH, 1, FRAME_SIZE, FRAME_SIZE))\n",
    "out = model(inp)\n",
    "print(out.size())"
   ]
  },
  {
   "cell_type": "code",
   "execution_count": 8,
   "metadata": {},
   "outputs": [],
   "source": [
    "loss_fn = nn.CrossEntropyLoss()\n",
    "optimizer = torch.optim.Adam(model.parameters(), lr=LEARNING_RATE)"
   ]
  },
  {
   "cell_type": "markdown",
   "metadata": {},
   "source": [
    "## Train Network\n",
    "\n",
    "Training on GPU is probably preferable for this example, takes a long time on CPU. During some runs, the training and validation accuracies get stuck, possibly because of bad initializations, the fix appears to be to just retry the training until it results in good training and validation accuracies and use the resulting model."
   ]
  },
  {
   "cell_type": "code",
   "execution_count": 9,
   "metadata": {},
   "outputs": [
    {
     "name": "stdout",
     "output_type": "stream",
     "text": [
      "Epoch  1/5: loss=0.649, acc=0.640, val_loss=0.409, val_acc=0.958\n",
      "Epoch  2/5: loss=0.357, acc=0.966, val_loss=0.324, val_acc=0.990\n",
      "Epoch  3/5: loss=0.344, acc=0.970, val_loss=0.328, val_acc=0.990\n",
      "Epoch  4/5: loss=0.340, acc=0.974, val_loss=0.315, val_acc=1.000\n",
      "Epoch  5/5: loss=0.339, acc=0.975, val_loss=0.320, val_acc=1.000\n"
     ]
    }
   ],
   "source": [
    "def compute_accuracy(pred_var, true_var):\n",
    "    if torch.cuda.is_available():\n",
    "        ypred = pred_var.cpu().data.numpy()\n",
    "        ytrue = true_var.cpu().data.numpy()\n",
    "    else:\n",
    "        ypred = pred_var.data.numpy()\n",
    "        ytrue = true_var.data.numpy()\n",
    "    return accuracy_score(ypred, ytrue)\n",
    "    \n",
    "history = []\n",
    "for epoch in range(NUM_EPOCHS):\n",
    "    num_batches = Xtrain.shape[0] // BATCH_SIZE\n",
    "    \n",
    "    shuffled_indices = np.random.permutation(np.arange(Xtrain.shape[0]))\n",
    "    train_loss, train_acc = 0., 0.\n",
    "    for bid in range(num_batches):\n",
    "        Xbatch_data = Xtrain[shuffled_indices[bid * BATCH_SIZE : (bid+1) * BATCH_SIZE]]\n",
    "        ybatch_data = ytrain[shuffled_indices[bid * BATCH_SIZE : (bid+1) * BATCH_SIZE]]\n",
    "        Xbatch = Variable(torch.from_numpy(Xbatch_data).float())\n",
    "        ybatch = Variable(torch.from_numpy(ybatch_data).long())\n",
    "        if torch.cuda.is_available():\n",
    "            Xbatch = Xbatch.cuda()\n",
    "            ybatch = ybatch.cuda()\n",
    "            \n",
    "        # initialize gradients\n",
    "        optimizer.zero_grad()\n",
    "        \n",
    "        # forward\n",
    "        Ybatch_ = model(Xbatch)\n",
    "        loss = loss_fn(Ybatch_, ybatch)\n",
    "        \n",
    "        # backward\n",
    "        loss.backward()\n",
    "\n",
    "        train_loss += loss.data[0]\n",
    "        \n",
    "        _, ybatch_ = Ybatch_.max(1)\n",
    "        train_acc += compute_accuracy(ybatch_, ybatch)\n",
    "        \n",
    "        optimizer.step()\n",
    "        \n",
    "    # compute training loss and accuracy\n",
    "    train_loss /= num_batches\n",
    "    train_acc /= num_batches\n",
    "    \n",
    "    # compute validation loss and accuracy\n",
    "    val_loss, val_acc = 0., 0.\n",
    "    num_val_batches = Xval.shape[0] // BATCH_SIZE\n",
    "    for bid in range(num_val_batches):\n",
    "        # data\n",
    "        Xbatch_data = Xval[bid * BATCH_SIZE : (bid + 1) * BATCH_SIZE]\n",
    "        ybatch_data = yval[bid * BATCH_SIZE : (bid + 1) * BATCH_SIZE]\n",
    "        Xbatch = Variable(torch.from_numpy(Xbatch_data).float())\n",
    "        ybatch = Variable(torch.from_numpy(ybatch_data).long())\n",
    "        if torch.cuda.is_available():\n",
    "            Xbatch = Xbatch.cuda()\n",
    "            ybatch = ybatch.cuda()\n",
    "\n",
    "        Ybatch_ = model(Xbatch)\n",
    "        loss = loss_fn(Ybatch_, ybatch)\n",
    "        val_loss += loss.data[0]\n",
    "\n",
    "        _, ybatch_ = Ybatch_.max(1)\n",
    "        val_acc += compute_accuracy(ybatch_, ybatch)\n",
    "        \n",
    "    val_loss /= num_val_batches\n",
    "    val_acc /= num_val_batches\n",
    "    \n",
    "    torch.save(model.state_dict(), MODEL_FILE.format(epoch+1))\n",
    "    print(\"Epoch {:2d}/{:d}: loss={:.3f}, acc={:.3f}, val_loss={:.3f}, val_acc={:.3f}\"\n",
    "          .format((epoch+1), NUM_EPOCHS, train_loss, train_acc, val_loss, val_acc))\n",
    "    \n",
    "    history.append((train_loss, val_loss, train_acc, val_acc))"
   ]
  },
  {
   "cell_type": "code",
   "execution_count": 10,
   "metadata": {},
   "outputs": [
    {
     "data": {
      "image/png": "[encoded data removed]",
      "text/plain": [
       "<matplotlib.figure.Figure at 0x10e89f250>"
      ]
     },
     "metadata": {},
     "output_type": "display_data"
    }
   ],
   "source": [
    "losses = [x[0] for x in history]\n",
    "val_losses = [x[1] for x in history]\n",
    "accs = [x[2] for x in history]\n",
    "val_accs = [x[3] for x in history]\n",
    "\n",
    "plt.subplot(211)\n",
    "plt.title(\"Accuracy\")\n",
    "plt.plot(accs, color=\"r\", label=\"train\")\n",
    "plt.plot(val_accs, color=\"b\", label=\"valid\")\n",
    "plt.legend(loc=\"best\")\n",
    "\n",
    "plt.subplot(212)\n",
    "plt.title(\"Loss\")\n",
    "plt.plot(losses, color=\"r\", label=\"train\")\n",
    "plt.plot(val_losses, color=\"b\", label=\"valid\")\n",
    "plt.legend(loc=\"best\")\n",
    "\n",
    "plt.tight_layout()\n",
    "plt.show()"
   ]
  },
  {
   "cell_type": "markdown",
   "metadata": {},
   "source": [
    "## Test/Evaluate Network"
   ]
  },
  {
   "cell_type": "code",
   "execution_count": 12,
   "metadata": {},
   "outputs": [],
   "source": [
    "saved_model = CNNLSTM(FRAME_SIZE, 1, 2, 2, 1, 1, 2, SEQUENCE_LENGTH, 50, 1, 2)\n",
    "saved_model.load_state_dict(torch.load(MODEL_FILE.format(5)))\n",
    "if torch.cuda.is_available():\n",
    "    saved_model.cuda()"
   ]
  },
  {
   "cell_type": "code",
   "execution_count": 13,
   "metadata": {},
   "outputs": [
    {
     "name": "stdout",
     "output_type": "stream",
     "text": [
      "Test accuracy: 0.988\n",
      "Confusion matrix\n",
      "[[210   4]\n",
      " [  2 264]]\n"
     ]
    }
   ],
   "source": [
    "ylabels, ypreds = [], []\n",
    "num_test_batches = Xtest.shape[0] // BATCH_SIZE\n",
    "for bid in range(num_test_batches):\n",
    "    Xbatch_data = Xtest[bid * BATCH_SIZE : (bid + 1) * BATCH_SIZE]\n",
    "    ybatch_data = ytest[bid * BATCH_SIZE : (bid + 1) * BATCH_SIZE]\n",
    "    Xbatch = Variable(torch.from_numpy(Xbatch_data).float())\n",
    "    ybatch = Variable(torch.from_numpy(ybatch_data).long())\n",
    "    if torch.cuda.is_available():\n",
    "        Xbatch = Xbatch.cuda()\n",
    "        ybatch = ybatch.cuda()\n",
    "\n",
    "    Ybatch_ = saved_model(Xbatch)\n",
    "    _, ybatch_ = Ybatch_.max(1)\n",
    "    if torch.cuda.is_available():\n",
    "        ylabels.extend(ybatch.cpu().data.numpy())\n",
    "        ypreds.extend(ybatch_.cpu().data.numpy())\n",
    "    else:\n",
    "        ylabels.extend(ybatch.data.numpy())\n",
    "        ypreds.extend(ybatch_.data.numpy())\n",
    "\n",
    "print(\"Test accuracy: {:.3f}\".format(accuracy_score(ylabels, ypreds)))\n",
    "print(\"Confusion matrix\")\n",
    "print(confusion_matrix(ylabels, ypreds))"
   ]
  },
  {
   "cell_type": "code",
   "execution_count": 14,
   "metadata": {
    "collapsed": true
   },
   "outputs": [],
   "source": [
    "for i in range(NUM_EPOCHS):\n",
    "    os.remove(MODEL_FILE.format(i + 1))"
   ]
  },
  {
   "cell_type": "code",
   "execution_count": null,
   "metadata": {
    "collapsed": true
   },
   "outputs": [],
   "source": []
  }
 ],
 "metadata": {
  "kernelspec": {
   "display_name": "Python 2",
   "language": "python",
   "name": "python2"
  },
  "language_info": {
   "codemirror_mode": {
    "name": "ipython",
    "version": 2
   },
   "file_extension": ".py",
   "mimetype": "text/x-python",
   "name": "python",
   "nbconvert_exporter": "python",
   "pygments_lexer": "ipython2",
   "version": "2.7.13"
  }
 },
 "nbformat": 4,
 "nbformat_minor": 2
}
