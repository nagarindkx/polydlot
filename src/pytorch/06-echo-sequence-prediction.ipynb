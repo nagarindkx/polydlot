{
 "cells": [
  {
   "cell_type": "markdown",
   "metadata": {},
   "source": [
    "# Echo Sequence Prediction\n",
    "\n",
    "This is the first toy model from Jason Brownlee's [Long Short Term Memory Networks with Python](https://machinelearningmastery.com/lstms-with-python/) book. His book has implementations using Keras. This notebook contains an implementation using Pytorch. From section 6.2 of the book:\n",
    "\n",
    ">    The echo sequence prediction problem is a contrived problem for demonstrating the memory\n",
    "capability of the Vanilla LSTM. The task is that, given a sequence of random integers as input, to output the value of a random integer at a specific time input step that is not specified to the model.\n",
    "\n",
    ">    For example, given the input sequence of random integers [5, 3, 2] and the chosen time\n",
    "step was the second value, then the expected output is 3. Technically, this is a sequence\n",
    "classification problem; it is formulated as a many-to-one prediction problem, where there are\n",
    "multiple input time steps and one output time step at the end of the sequence."
   ]
  },
  {
   "cell_type": "code",
   "execution_count": 1,
   "metadata": {
    "collapsed": true
   },
   "outputs": [],
   "source": [
    "from __future__ import division, print_function\n",
    "from sklearn.metrics import accuracy_score, confusion_matrix\n",
    "from sklearn.model_selection import train_test_split\n",
    "from sklearn.preprocessing import OneHotEncoder\n",
    "import torch\n",
    "import torch.nn as nn\n",
    "from torch.autograd import Variable\n",
    "import numpy as np\n",
    "import matplotlib.pyplot as plt\n",
    "import os\n",
    "import shutil\n",
    "%matplotlib inline"
   ]
  },
  {
   "cell_type": "code",
   "execution_count": 2,
   "metadata": {
    "collapsed": true
   },
   "outputs": [],
   "source": [
    "DATA_DIR = \"../../data\"\n",
    "\n",
    "NUM_CLASSES = 10\n",
    "SEQUENCE_LENGTH = 5\n",
    "BATCH_SIZE = 32\n",
    "NUM_EPOCHS = 20\n",
    "NUM_SAMPLES = 5000\n",
    "\n",
    "# train_to_test, train_to_val\n",
    "DATA_SPLITS = [0.7, 0.9]\n",
    "\n",
    "EMBED_SIZE = NUM_CLASSES\n",
    "# will vary from run to run but constant across the run\n",
    "PREDICT_COL = np.random.randint(SEQUENCE_LENGTH)\n",
    "\n",
    "MODEL_FILE = os.path.join(DATA_DIR, \"torch-06-seq-pred-{:d}.model\")\n",
    "LEARNING_RATE = 1e-2"
   ]
  },
  {
   "cell_type": "markdown",
   "metadata": {},
   "source": [
    "## Prepare Data\n",
    "\n",
    "Torch LSTMs expect their data as 3D tensors of shape (SEQUENCE_LENGTH, BATCH_SIZE, EMBEDDING_SIZE), according to [this page](http://pytorch.org/tutorials/beginner/nlp/sequence_models_tutorial.html#lstm-s-in-pytorch). We set up our data as an array of shape (SEQUENCE_LENGTH, BATCH_SIZE, NUM_CLASSES). Embedding is 1-hot encoding."
   ]
  },
  {
   "cell_type": "code",
   "execution_count": 3,
   "metadata": {},
   "outputs": [
    {
     "name": "stdout",
     "output_type": "stream",
     "text": [
      "(5000, 5, 10) (5000,)\n"
     ]
    }
   ],
   "source": [
    "def generate_data(seq_len, num_classes, predict_col, num_samples):\n",
    "    ohe = OneHotEncoder(n_values=num_classes)\n",
    "    xs, ys = [], []\n",
    "    for i in range(num_samples):\n",
    "        random_seq = np.random.randint(0, num_classes, seq_len)\n",
    "        xs.append(ohe.fit_transform(random_seq.reshape(-1, 1)).todense())\n",
    "        ys.append(random_seq[predict_col])\n",
    "    X = np.array(xs)\n",
    "    y = np.array(ys)\n",
    "    return X, y\n",
    "\n",
    "X, y = generate_data(SEQUENCE_LENGTH, NUM_CLASSES, PREDICT_COL, NUM_SAMPLES)\n",
    "print(X.shape, y.shape)"
   ]
  },
  {
   "cell_type": "code",
   "execution_count": 4,
   "metadata": {},
   "outputs": [
    {
     "name": "stdout",
     "output_type": "stream",
     "text": [
      "(3150, 5, 10) (3150,) (350, 5, 10) (350,) (1500, 5, 10) (1500,)\n"
     ]
    },
    {
     "name": "stderr",
     "output_type": "stream",
     "text": [
      "/Users/palsujit/anaconda2/lib/python2.7/site-packages/sklearn/model_selection/_split.py:2010: FutureWarning: From version 0.21, test_size will always complement train_size unless both are specified.\n",
      "  FutureWarning)\n"
     ]
    }
   ],
   "source": [
    "def split_dataset(X, y, data_splits):\n",
    "    Xtv, Xtest, ytv, ytest = train_test_split(X, y, train_size=data_splits[0], \n",
    "                                              random_state=42)\n",
    "    Xtrain, Xval, ytrain, yval = train_test_split(Xtv, ytv, train_size=data_splits[1], \n",
    "                                                  random_state=42)\n",
    "    return Xtrain, ytrain, Xval, yval, Xtest, ytest\n",
    "    \n",
    "Xtrain, ytrain, Xval, yval, Xtest, ytest = split_dataset(X, y, DATA_SPLITS)\n",
    "print(Xtrain.shape, ytrain.shape, Xval.shape, yval.shape, Xtest.shape, ytest.shape)"
   ]
  },
  {
   "cell_type": "markdown",
   "metadata": {},
   "source": [
    "## Define Network"
   ]
  },
  {
   "cell_type": "code",
   "execution_count": 5,
   "metadata": {
    "collapsed": true
   },
   "outputs": [],
   "source": [
    "class EchoClassifier(nn.Module):\n",
    "    \"\"\"\n",
    "    Input: one-hot encoding (?, 25, 10)\n",
    "    LSTM: output dimension (512,), extract context vector\n",
    "    FCN: output dimension 100, softmax\n",
    "    \"\"\"\n",
    "    \n",
    "    def __init__(self, seq_len, input_dim, hidden_dim, output_dim):\n",
    "        super(EchoClassifier, self).__init__()\n",
    "        self.hidden_dim = hidden_dim\n",
    "        \n",
    "        # define layers\n",
    "        self.lstm = nn.LSTM(input_dim, hidden_dim, 1, \n",
    "                            batch_first=True, \n",
    "                            dropout=0.2)\n",
    "        self.fc1 = nn.Linear(hidden_dim, output_dim)\n",
    "        self.softmax = nn.Softmax()\n",
    "        \n",
    "    def forward(self, x):\n",
    "        if torch.cuda.is_available():\n",
    "            hidden = (Variable(torch.randn(1, x.size(0), self.hidden_dim).cuda()),\n",
    "                      Variable(torch.randn(1, x.size(0), self.hidden_dim).cuda()))\n",
    "        else:\n",
    "            hidden = (Variable(torch.randn(1, x.size(0), self.hidden_dim)),\n",
    "                      Variable(torch.randn(1, x.size(0), self.hidden_dim)))\n",
    "\n",
    "        out, hidden = self.lstm(x, hidden)\n",
    "        out = self.fc1(out[:, -1, :])\n",
    "        out = self.softmax(out)\n",
    "        return out    "
   ]
  },
  {
   "cell_type": "code",
   "execution_count": 6,
   "metadata": {
    "collapsed": true
   },
   "outputs": [],
   "source": [
    "model = EchoClassifier(SEQUENCE_LENGTH, EMBED_SIZE, 25, NUM_CLASSES)\n",
    "if torch.cuda.is_available():\n",
    "    model.cuda()\n",
    "    \n",
    "loss_fn = nn.CrossEntropyLoss()\n",
    "optimizer = torch.optim.Adam(model.parameters(), lr=LEARNING_RATE)"
   ]
  },
  {
   "cell_type": "markdown",
   "metadata": {},
   "source": [
    "## Train Network"
   ]
  },
  {
   "cell_type": "code",
   "execution_count": 7,
   "metadata": {},
   "outputs": [
    {
     "name": "stdout",
     "output_type": "stream",
     "text": [
      "Epoch  1/20: loss=2.292, acc=0.126, val_loss=2.272, val_acc=0.156\n",
      "Epoch  2/20: loss=2.206, acc=0.240, val_loss=2.196, val_acc=0.241\n",
      "Epoch  3/20: loss=2.134, acc=0.322, val_loss=2.156, val_acc=0.294\n",
      "Epoch  4/20: loss=2.101, acc=0.357, val_loss=2.147, val_acc=0.297\n",
      "Epoch  5/20: loss=2.080, acc=0.376, val_loss=2.141, val_acc=0.312\n",
      "Epoch  6/20: loss=2.051, acc=0.405, val_loss=2.041, val_acc=0.416\n",
      "Epoch  7/20: loss=1.992, acc=0.471, val_loss=2.019, val_acc=0.441\n",
      "Epoch  8/20: loss=1.966, acc=0.494, val_loss=1.956, val_acc=0.503\n",
      "Epoch  9/20: loss=1.913, acc=0.547, val_loss=1.919, val_acc=0.541\n",
      "Epoch 10/20: loss=1.858, acc=0.615, val_loss=1.811, val_acc=0.669\n",
      "Epoch 11/20: loss=1.803, acc=0.665, val_loss=1.741, val_acc=0.731\n",
      "Epoch 12/20: loss=1.728, acc=0.752, val_loss=1.654, val_acc=0.831\n",
      "Epoch 13/20: loss=1.611, acc=0.866, val_loss=1.571, val_acc=0.906\n",
      "Epoch 14/20: loss=1.571, acc=0.900, val_loss=1.537, val_acc=0.938\n",
      "Epoch 15/20: loss=1.549, acc=0.920, val_loss=1.526, val_acc=0.941\n",
      "Epoch 16/20: loss=1.522, acc=0.945, val_loss=1.516, val_acc=0.947\n",
      "Epoch 17/20: loss=1.527, acc=0.940, val_loss=1.502, val_acc=0.963\n",
      "Epoch 18/20: loss=1.513, acc=0.952, val_loss=1.488, val_acc=0.981\n",
      "Epoch 19/20: loss=1.512, acc=0.951, val_loss=1.505, val_acc=0.963\n",
      "Epoch 20/20: loss=1.503, acc=0.962, val_loss=1.489, val_acc=0.978\n"
     ]
    }
   ],
   "source": [
    "def compute_accuracy(pred_var, true_var):\n",
    "    if torch.cuda.is_available():\n",
    "        ypred = pred_var.cpu().data.numpy()\n",
    "        ytrue = true_var.cpu().data.numpy()\n",
    "    else:\n",
    "        ypred = pred_var.data.numpy()\n",
    "        ytrue = true_var.data.numpy()\n",
    "    return accuracy_score(ypred, ytrue)\n",
    "    \n",
    "history = []\n",
    "for epoch in range(NUM_EPOCHS):\n",
    "    num_batches = Xtrain.shape[0] // BATCH_SIZE\n",
    "    \n",
    "    shuffled_indices = np.random.permutation(np.arange(Xtrain.shape[0]))\n",
    "    train_loss, train_acc = 0., 0.\n",
    "    for bid in range(num_batches):\n",
    "        Xbatch_data = Xtrain[shuffled_indices[bid * BATCH_SIZE : (bid+1) * BATCH_SIZE]]\n",
    "        ybatch_data = ytrain[shuffled_indices[bid * BATCH_SIZE : (bid+1) * BATCH_SIZE]]\n",
    "        Xbatch = Variable(torch.from_numpy(Xbatch_data).float())\n",
    "        ybatch = Variable(torch.from_numpy(ybatch_data).long())\n",
    "        if torch.cuda.is_available():\n",
    "            Xbatch = Xbatch.cuda()\n",
    "            ybatch = ybatch.cuda()\n",
    "            \n",
    "        # initialize gradients\n",
    "        optimizer.zero_grad()\n",
    "        \n",
    "        # forward\n",
    "        Ybatch_ = model(Xbatch)\n",
    "        loss = loss_fn(Ybatch_, ybatch)\n",
    "        \n",
    "        # backward\n",
    "        loss.backward()\n",
    "\n",
    "        train_loss += loss.data[0]\n",
    "        \n",
    "        _, ybatch_ = Ybatch_.max(1)\n",
    "        train_acc += compute_accuracy(ybatch_, ybatch)\n",
    "        \n",
    "        optimizer.step()\n",
    "        \n",
    "    # compute training loss and accuracy\n",
    "    train_loss /= num_batches\n",
    "    train_acc /= num_batches\n",
    "    \n",
    "    # compute validation loss and accuracy\n",
    "    val_loss, val_acc = 0., 0.\n",
    "    num_val_batches = Xval.shape[0] // BATCH_SIZE\n",
    "    for bid in range(num_val_batches):\n",
    "        # data\n",
    "        Xbatch_data = Xval[bid * BATCH_SIZE : (bid + 1) * BATCH_SIZE]\n",
    "        ybatch_data = yval[bid * BATCH_SIZE : (bid + 1) * BATCH_SIZE]\n",
    "        Xbatch = Variable(torch.from_numpy(Xbatch_data).float())\n",
    "        ybatch = Variable(torch.from_numpy(ybatch_data).long())\n",
    "        if torch.cuda.is_available():\n",
    "            Xbatch = Xbatch.cuda()\n",
    "            ybatch = ybatch.cuda()\n",
    "\n",
    "        Ybatch_ = model(Xbatch)\n",
    "        loss = loss_fn(Ybatch_, ybatch)\n",
    "        val_loss += loss.data[0]\n",
    "\n",
    "        _, ybatch_ = Ybatch_.max(1)\n",
    "        val_acc += compute_accuracy(ybatch_, ybatch)\n",
    "        \n",
    "    val_loss /= num_val_batches\n",
    "    val_acc /= num_val_batches\n",
    "    \n",
    "    torch.save(model.state_dict(), MODEL_FILE.format(epoch+1))\n",
    "    print(\"Epoch {:2d}/{:d}: loss={:.3f}, acc={:.3f}, val_loss={:.3f}, val_acc={:.3f}\"\n",
    "          .format((epoch+1), NUM_EPOCHS, train_loss, train_acc, val_loss, val_acc))\n",
    "    \n",
    "    history.append((train_loss, val_loss, train_acc, val_acc))"
   ]
  },
  {
   "cell_type": "code",
   "execution_count": 8,
   "metadata": {},
   "outputs": [
    {
     "data": {
      "image/png": "[encoded data removed]",
      "text/plain": [
       "<matplotlib.figure.Figure at 0x116d3f910>"
      ]
     },
     "metadata": {},
     "output_type": "display_data"
    }
   ],
   "source": [
    "losses = [x[0] for x in history]\n",
    "val_losses = [x[1] for x in history]\n",
    "accs = [x[2] for x in history]\n",
    "val_accs = [x[3] for x in history]\n",
    "\n",
    "plt.subplot(211)\n",
    "plt.title(\"Accuracy\")\n",
    "plt.plot(accs, color=\"r\", label=\"train\")\n",
    "plt.plot(val_accs, color=\"b\", label=\"valid\")\n",
    "plt.legend(loc=\"best\")\n",
    "\n",
    "plt.subplot(212)\n",
    "plt.title(\"Loss\")\n",
    "plt.plot(losses, color=\"r\", label=\"train\")\n",
    "plt.plot(val_losses, color=\"b\", label=\"valid\")\n",
    "plt.legend(loc=\"best\")\n",
    "\n",
    "plt.tight_layout()\n",
    "plt.show()"
   ]
  },
  {
   "cell_type": "markdown",
   "metadata": {},
   "source": [
    "## Test Network"
   ]
  },
  {
   "cell_type": "code",
   "execution_count": 9,
   "metadata": {
    "collapsed": true
   },
   "outputs": [],
   "source": [
    "saved_model = EchoClassifier(SEQUENCE_LENGTH, EMBED_SIZE, 25, NUM_CLASSES)\n",
    "saved_model.load_state_dict(torch.load(MODEL_FILE.format(10)))\n",
    "if torch.cuda.is_available():\n",
    "    saved_model.cuda()"
   ]
  },
  {
   "cell_type": "code",
   "execution_count": 10,
   "metadata": {},
   "outputs": [
    {
     "name": "stdout",
     "output_type": "stream",
     "text": [
      "Test accuracy: 0.635\n",
      "Confusion matrix\n",
      "[[133   1   0   4   0   1   0   2   3   0]\n",
      " [  6 133   6   2   4   5   0   5   2   0]\n",
      " [  6  10  70  11   3  16   0   9  23   0]\n",
      " [  9   0   0 119   1   1   0   1   5   0]\n",
      " [  2   3   1  24 127   1   0   1   0   0]\n",
      " [  2   4   3   1   8 122   0   1   9   0]\n",
      " [ 12  10  44  10  17  13   0   6  14   0]\n",
      " [  4   2   4   7   1   1   0 106   5   0]\n",
      " [  6   5   3   6   3  13   0   2 125   0]\n",
      " [ 12   5  47  18   7  31   0   4  29   0]]\n"
     ]
    }
   ],
   "source": [
    "ylabels, ypreds = [], []\n",
    "num_test_batches = Xtest.shape[0] // BATCH_SIZE\n",
    "for bid in range(num_test_batches):\n",
    "    Xbatch_data = Xtest[bid * BATCH_SIZE : (bid + 1) * BATCH_SIZE]\n",
    "    ybatch_data = ytest[bid * BATCH_SIZE : (bid + 1) * BATCH_SIZE]\n",
    "    Xbatch = Variable(torch.from_numpy(Xbatch_data).float())\n",
    "    ybatch = Variable(torch.from_numpy(ybatch_data).long())\n",
    "    if torch.cuda.is_available():\n",
    "        Xbatch = Xbatch.cuda()\n",
    "        ybatch = ybatch.cuda()\n",
    "\n",
    "    Ybatch_ = saved_model(Xbatch)\n",
    "    _, ybatch_ = Ybatch_.max(1)\n",
    "    if torch.cuda.is_available():\n",
    "        ylabels.extend(ybatch.cpu().data.numpy())\n",
    "        ypreds.extend(ybatch_.cpu().data.numpy())\n",
    "    else:\n",
    "        ylabels.extend(ybatch.data.numpy())\n",
    "        ypreds.extend(ybatch_.data.numpy())\n",
    "\n",
    "print(\"Test accuracy: {:.3f}\".format(accuracy_score(ylabels, ypreds)))\n",
    "print(\"Confusion matrix\")\n",
    "print(confusion_matrix(ylabels, ypreds))"
   ]
  },
  {
   "cell_type": "markdown",
   "metadata": {},
   "source": [
    "### Print Random block of test data with labels and predictions"
   ]
  },
  {
   "cell_type": "code",
   "execution_count": 11,
   "metadata": {},
   "outputs": [
    {
     "data": {
      "text/html": [
       "<span style=\"background-color:#FFFF00\">9</span>4824 9 0<br/><span style=\"background-color:#FFFF00\">4</span>0860 4 4<br/><span style=\"background-color:#FFFF00\">3</span>7392 3 3<br/><span style=\"background-color:#FFFF00\">4</span>8545 4 4<br/><span style=\"background-color:#FFFF00\">6</span>2960 6 2<br/><span style=\"background-color:#FFFF00\">8</span>5694 8 5<br/><span style=\"background-color:#FFFF00\">9</span>6802 9 3<br/><span style=\"background-color:#FFFF00\">9</span>5810 9 5<br/><span style=\"background-color:#FFFF00\">8</span>8216 8 8<br/><span style=\"background-color:#FFFF00\">7</span>7691 7 7<br/>"
      ],
      "text/plain": [
       "<IPython.core.display.HTML object>"
      ]
     },
     "metadata": {},
     "output_type": "display_data"
    }
   ],
   "source": [
    "from IPython.core.display import display, HTML\n",
    "\n",
    "def maybe_highlight(x, j):\n",
    "    if j == PREDICT_COL:\n",
    "        return \"\"\"<span style=\"background-color:#FFFF00\">\"\"\" + str(x) + \"</span>\"\n",
    "    else:\n",
    "        return str(x)\n",
    "\n",
    "start = np.random.randint(Xtest.shape[0] - 10) \n",
    "rand_seqs = np.argmax(Xtest[start:start + 10], axis=2)\n",
    "rand_labels = ylabels[start:start + 10]\n",
    "rand_preds = ypreds[start:start + 10]\n",
    "\n",
    "html_str = \"\"\n",
    "for i in range(10):\n",
    "    seq_str = \"\".join([maybe_highlight(x, j) for j, x in enumerate(rand_seqs[i])])\n",
    "    html_str += \"{:s} {:d} {:d}<br/>\".format(seq_str, rand_labels[i], rand_preds[i])\n",
    "display(HTML(html_str))"
   ]
  },
  {
   "cell_type": "code",
   "execution_count": 12,
   "metadata": {
    "collapsed": true
   },
   "outputs": [],
   "source": [
    "for i in range(10):\n",
    "    os.remove(MODEL_FILE.format(i + 1))"
   ]
  },
  {
   "cell_type": "code",
   "execution_count": null,
   "metadata": {
    "collapsed": true
   },
   "outputs": [],
   "source": []
  }
 ],
 "metadata": {
  "kernelspec": {
   "display_name": "Python 2",
   "language": "python",
   "name": "python2"
  },
  "language_info": {
   "codemirror_mode": {
    "name": "ipython",
    "version": 2
   },
   "file_extension": ".py",
   "mimetype": "text/x-python",
   "name": "python",
   "nbconvert_exporter": "python",
   "pygments_lexer": "ipython2",
   "version": "2.7.13"
  }
 },
 "nbformat": 4,
 "nbformat_minor": 2
}
