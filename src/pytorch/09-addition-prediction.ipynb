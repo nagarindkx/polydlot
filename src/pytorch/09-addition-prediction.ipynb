{
 "cells": [
  {
   "cell_type": "markdown",
   "metadata": {},
   "source": [
    "# Addition Prediction\n",
    "\n",
    "This is the fourth toy example from Jason Brownlee's [Long Short Term Memory Networks with Python](https://machinelearningmastery.com/lstms-with-python/). It demonstrates the solution to a sequence-to-sequence (aka seq2seq) prediction problem. Per section 9.3 of the book:\n",
    "\n",
    "> The problem is defined as calculating the sum output of two input numbers. This is\n",
    "challenging as each digit and mathematical symbol is provided as a character and the expected\n",
    "output is also expected as characters. For example, the input 10+6 with the output 16 would\n",
    "be represented by the sequences ['1', '0', '+', '6'] and ['1', '6'] respectively.\n",
    "\n",
    "> The model must learn not only the integer nature of the characters, but also the nature\n",
    "of the mathematical operation to perform. Notice how sequence is now important, and that\n",
    "randomly shuffling the input will create a nonsense sequence that could not be related to the\n",
    "output sequence. Also notice how the number of digits could vary in both the input and output\n",
    "sequences. Technically this makes the addition prediction problem a sequence-to-sequence\n",
    "problem that requires a many-to-many model to address."
   ]
  },
  {
   "cell_type": "code",
   "execution_count": 1,
   "metadata": {
    "collapsed": true
   },
   "outputs": [],
   "source": [
    "from __future__ import division, print_function\n",
    "from sklearn.metrics import accuracy_score, confusion_matrix\n",
    "import torch\n",
    "import torch.nn as nn\n",
    "import torch.nn.functional as F\n",
    "from torch.autograd import Variable\n",
    "import numpy as np\n",
    "import matplotlib.pyplot as plt\n",
    "import os\n",
    "import shutil\n",
    "%matplotlib inline"
   ]
  },
  {
   "cell_type": "code",
   "execution_count": 2,
   "metadata": {
    "collapsed": true
   },
   "outputs": [],
   "source": [
    "DATA_DIR = \"../../data\"\n",
    "MODEL_FILE = os.path.join(DATA_DIR, \"torch-09-addition-predict-{:d}.model\")\n",
    "\n",
    "TRAIN_SIZE = 7500\n",
    "VAL_SIZE = 100\n",
    "TEST_SIZE = 500\n",
    "\n",
    "ENC_SEQ_LENGTH = 8\n",
    "DEC_SEQ_LENGTH = 2\n",
    "EMBEDDING_SIZE = 12\n",
    "\n",
    "BATCH_SIZE = 32\n",
    "NUM_EPOCHS = 20\n",
    "LEARNING_RATE = 1e-3"
   ]
  },
  {
   "cell_type": "markdown",
   "metadata": {},
   "source": [
    "## Prepare Data\n",
    "\n",
    "We first generate a number of random math addition problems of the form a + b + c = d, then stringify them into the sequence of characters as needed by our network. We then left pad these sequences with space. Finally, we one-hot encode these padded strings so they can be fed into an LSTM. The blocks below show these transformations on a small set of random triples.\n",
    "\n",
    "We then apply these sequence of transformations to create our training and test sets. Each row of input to the network is represented by a sequence of one-hot vectors corresponding to the characters in the alphabet, and each row of output is a sequence of ids corresponding to the characters in the result."
   ]
  },
  {
   "cell_type": "code",
   "execution_count": 3,
   "metadata": {},
   "outputs": [
    {
     "name": "stdout",
     "output_type": "stream",
     "text": [
      "['4', '+', '4', '+', '2'] ['1', '0']\n",
      "['6', '+', '0', '+', '2'] ['8']\n",
      "['4', '+', '2', '+', '6'] ['1', '2']\n",
      "['6', '+', '1', '0', '+', '6'] ['2', '2']\n",
      "['8', '+', '3', '+', '7'] ['1', '8']\n"
     ]
    }
   ],
   "source": [
    "def generate_random_addition_problems(max_num, num_probs):\n",
    "    lhs_1 = np.random.randint(0, max_num + 1, num_probs)\n",
    "    lhs_2 = np.random.randint(0, max_num + 1, num_probs)\n",
    "    lhs_3 = np.random.randint(0, max_num + 1, num_probs)\n",
    "    rhs = lhs_1 + lhs_2 + lhs_3\n",
    "    in_seqs, out_seqs = [], []\n",
    "    for i in range(num_probs):\n",
    "        in_seqs.append([c for c in \"\".join([str(lhs_1[i]), \"+\", str(lhs_2[i]), \n",
    "                                            \"+\", str(lhs_3[i])])])\n",
    "        out_seqs.append([c for c in str(rhs[i])])\n",
    "    return in_seqs, out_seqs\n",
    "\n",
    "input_seq, output_seq = generate_random_addition_problems(10, 5)\n",
    "for i, o in zip(input_seq, output_seq):\n",
    "    print(i, o)"
   ]
  },
  {
   "cell_type": "code",
   "execution_count": 4,
   "metadata": {},
   "outputs": [
    {
     "name": "stdout",
     "output_type": "stream",
     "text": [
      "[' ', ' ', ' ', '4', '+', '4', '+', '2'] ['1', '0']\n",
      "[' ', ' ', ' ', '6', '+', '0', '+', '2'] [' ', '8']\n",
      "[' ', ' ', ' ', '4', '+', '2', '+', '6'] ['1', '2']\n",
      "[' ', ' ', '6', '+', '1', '0', '+', '6'] ['2', '2']\n",
      "[' ', ' ', ' ', '8', '+', '3', '+', '7'] ['1', '8']\n"
     ]
    }
   ],
   "source": [
    "def left_pad(chr_list, pad_len, pad_char=' '):\n",
    "    len_to_pad = pad_len - len(chr_list)\n",
    "    padded_list = []\n",
    "    for i in range(len_to_pad):\n",
    "        padded_list.append(pad_char)\n",
    "    padded_list.extend(chr_list)\n",
    "    return padded_list\n",
    "\n",
    "for i, o in zip(input_seq, output_seq):\n",
    "    print(left_pad(i, 8), left_pad(o, 2))"
   ]
  },
  {
   "cell_type": "code",
   "execution_count": 5,
   "metadata": {},
   "outputs": [
    {
     "name": "stdout",
     "output_type": "stream",
     "text": [
      "[' ', ' ', ' ', '4', '+', '4', '+', '2'] (8, 12) [1 0]\n",
      "[' ', ' ', ' ', '6', '+', '0', '+', '2'] (8, 12) [11  8]\n",
      "[' ', ' ', ' ', '4', '+', '2', '+', '6'] (8, 12) [1 2]\n",
      "[' ', ' ', '6', '+', '1', '0', '+', '6'] (8, 12) [2 2]\n",
      "[' ', ' ', ' ', '8', '+', '3', '+', '7'] (8, 12) [1 8]\n"
     ]
    }
   ],
   "source": [
    "def one_hot_encode(padded_chr_list, char2idx):\n",
    "    encodeds = []\n",
    "    for c in padded_chr_list:\n",
    "        v = np.zeros(len(char2idx))\n",
    "        v[char2idx[c]] = 1\n",
    "        encodeds.append(v)\n",
    "    return np.array(encodeds)\n",
    "\n",
    "def one_hot_decode(enc_matrix, idx2char):\n",
    "    decodeds = []\n",
    "    for i in range(enc_matrix.shape[0]):\n",
    "        v = enc_matrix[i]\n",
    "        j = np.where(v == 1)[0][0]\n",
    "        decodeds.append(idx2char[j])\n",
    "    return decodeds\n",
    "\n",
    "chrs = [str(x) for x in range(10)] + ['+', ' ']\n",
    "char2idx, idx2char = {}, {}\n",
    "for i, c in enumerate(chrs):\n",
    "    char2idx[c] = i\n",
    "    idx2char[i] = c\n",
    "for i, o in zip(input_seq, output_seq):\n",
    "    X = one_hot_encode(left_pad(i, 8), char2idx)\n",
    "    Y = np.array([char2idx[x] for x in left_pad(o, 2)])\n",
    "    x_dec = one_hot_decode(X, idx2char)\n",
    "    print(x_dec, X.shape, Y)"
   ]
  },
  {
   "cell_type": "code",
   "execution_count": 6,
   "metadata": {},
   "outputs": [
    {
     "name": "stdout",
     "output_type": "stream",
     "text": [
      "(7500, 8, 12) (7500, 2) (100, 8, 12) (100, 2) (500, 8, 12) (500, 2)\n"
     ]
    }
   ],
   "source": [
    "def generate_data(data_size, enc_seqlen, dec_seqlen):\n",
    "    input_seq, output_seq = generate_random_addition_problems(10, data_size)\n",
    "    Xgen = np.zeros((data_size, enc_seqlen, EMBEDDING_SIZE))\n",
    "    Ygen = np.zeros((data_size, dec_seqlen))\n",
    "    for idx, (inp, outp) in enumerate(zip(input_seq, output_seq)):\n",
    "        Xgen[idx] = one_hot_encode(left_pad(inp, ENC_SEQ_LENGTH), char2idx)\n",
    "        Ygen[idx] = np.array([char2idx[x] for x in left_pad(outp, DEC_SEQ_LENGTH)])\n",
    "    return Xgen, Ygen\n",
    "\n",
    "Xtrain, Ytrain = generate_data(TRAIN_SIZE, ENC_SEQ_LENGTH, DEC_SEQ_LENGTH)\n",
    "Xval, Yval = generate_data(VAL_SIZE, ENC_SEQ_LENGTH, DEC_SEQ_LENGTH)\n",
    "Xtest, Ytest = generate_data(TEST_SIZE, ENC_SEQ_LENGTH, DEC_SEQ_LENGTH)\n",
    "\n",
    "print(Xtrain.shape, Ytrain.shape, Xval.shape, Yval.shape, Xtest.shape, Ytest.shape)"
   ]
  },
  {
   "cell_type": "markdown",
   "metadata": {},
   "source": [
    "## Define Network"
   ]
  },
  {
   "cell_type": "code",
   "execution_count": 7,
   "metadata": {},
   "outputs": [
    {
     "name": "stdout",
     "output_type": "stream",
     "text": [
      "AdditionPredictor (\n",
      "  (enc_lstm): LSTM(12, 75, batch_first=True)\n",
      "  (dec_lstm): LSTM(75, 50, batch_first=True)\n",
      "  (dec_fcn): Linear (50 -> 12)\n",
      "  (dec_softmax): Softmax ()\n",
      ")\n",
      "--- size debugging ---\n",
      "torch.Size([32, 2, 12])\n"
     ]
    }
   ],
   "source": [
    "class AdditionPredictor(nn.Module):\n",
    "    \n",
    "    def __init__(self, enc_seqlen, enc_embed_dim, enc_hidden_dim,\n",
    "                 dec_seqlen, dec_hidden_dim, output_dim):\n",
    "        super(AdditionPredictor, self).__init__()\n",
    "        # capture variables needed in forward\n",
    "        self.enc_hidden_dim = enc_hidden_dim\n",
    "        self.dec_hidden_dim = dec_hidden_dim\n",
    "        self.dec_seqlen = dec_seqlen\n",
    "        self.output_dim = output_dim\n",
    "        # define network layers\n",
    "        self.enc_lstm = nn.LSTM(enc_embed_dim, enc_hidden_dim, 1, batch_first=True)\n",
    "        self.dec_lstm = nn.LSTM(enc_hidden_dim, dec_hidden_dim, 1, batch_first=True)\n",
    "        self.dec_fcn = nn.Linear(dec_hidden_dim, output_dim)\n",
    "        self.dec_softmax = nn.Softmax()\n",
    "    \n",
    "    def forward(self, x):\n",
    "        if torch.cuda.is_available():\n",
    "            he = (Variable(torch.randn(1, x.size(0), self.enc_hidden_dim).cuda()),\n",
    "                  Variable(torch.randn(1, x.size(0), self.enc_hidden_dim).cuda()))\n",
    "            hd = (Variable(torch.randn(1, x.size(0), self.dec_hidden_dim).cuda()),\n",
    "                  Variable(torch.randn(1, x.size(0), self.dec_hidden_dim).cuda()))\n",
    "        else:\n",
    "            he = (Variable(torch.randn(1, x.size(0), self.enc_hidden_dim)),\n",
    "                  Variable(torch.randn(1, x.size(0), self.enc_hidden_dim)))\n",
    "            hd = (Variable(torch.randn(1, x.size(0), self.dec_hidden_dim)),\n",
    "                  Variable(torch.randn(1, x.size(0), self.dec_hidden_dim)))\n",
    "\n",
    "        x, he = self.enc_lstm(x, he)         # encoder LSTM\n",
    "        x = x[:, -1, :].unsqueeze(1)         # encoder context vector\n",
    "        x = x.repeat(1, self.dec_seqlen, 1)  # repeat vector decoder seqlen times\n",
    "        x, hd = self.dec_lstm(x, hd)         # decoder LSTM\n",
    "        x_fcn = Variable(torch.zeros(x.size(0), self.dec_seqlen, self.output_dim))\n",
    "        for i in range(self.dec_seqlen):     # decoder LSTM -> fcn for each timestep\n",
    "            x_fcn[:, i, :] = self.dec_softmax(self.dec_fcn(x[:, i, :]))\n",
    "        x = x_fcn\n",
    "        return x\n",
    "\n",
    "model = AdditionPredictor(ENC_SEQ_LENGTH, EMBEDDING_SIZE, 75,\n",
    "                          DEC_SEQ_LENGTH, 50, len(chrs))\n",
    "if torch.cuda.is_available():\n",
    "    model.cuda()\n",
    "print(model)\n",
    "\n",
    "# size debugging\n",
    "print(\"--- size debugging ---\")\n",
    "inp = Variable(torch.randn(BATCH_SIZE, ENC_SEQ_LENGTH, EMBEDDING_SIZE))\n",
    "outp = model(inp)\n",
    "print(outp.size())"
   ]
  },
  {
   "cell_type": "code",
   "execution_count": 8,
   "metadata": {
    "collapsed": true
   },
   "outputs": [],
   "source": [
    "loss_fn = nn.CrossEntropyLoss()\n",
    "optimizer = torch.optim.Adam(model.parameters(), lr=LEARNING_RATE)"
   ]
  },
  {
   "cell_type": "markdown",
   "metadata": {},
   "source": [
    "## Train Network"
   ]
  },
  {
   "cell_type": "code",
   "execution_count": 9,
   "metadata": {},
   "outputs": [
    {
     "name": "stdout",
     "output_type": "stream",
     "text": [
      "Epoch  1/20: loss=4.603, acc=0.050, val_loss=4.447, val_acc=0.073\n",
      "Epoch  2/20: loss=4.515, acc=0.055, val_loss=4.446, val_acc=0.073\n",
      "Epoch  3/20: loss=4.515, acc=0.055, val_loss=4.446, val_acc=0.073\n",
      "Epoch  4/20: loss=4.512, acc=0.055, val_loss=4.449, val_acc=0.073\n",
      "Epoch  5/20: loss=4.473, acc=0.058, val_loss=4.452, val_acc=0.073\n",
      "Epoch  6/20: loss=4.464, acc=0.056, val_loss=4.454, val_acc=0.052\n",
      "Epoch  7/20: loss=4.462, acc=0.063, val_loss=4.454, val_acc=0.052\n",
      "Epoch  8/20: loss=4.462, acc=0.060, val_loss=4.453, val_acc=0.062\n",
      "Epoch  9/20: loss=4.462, acc=0.062, val_loss=4.455, val_acc=0.073\n",
      "Epoch 10/20: loss=4.463, acc=0.062, val_loss=4.456, val_acc=0.042\n",
      "Epoch 11/20: loss=4.462, acc=0.060, val_loss=4.453, val_acc=0.052\n",
      "Epoch 12/20: loss=4.462, acc=0.059, val_loss=4.455, val_acc=0.062\n",
      "Epoch 13/20: loss=4.462, acc=0.062, val_loss=4.455, val_acc=0.062\n",
      "Epoch 14/20: loss=4.462, acc=0.059, val_loss=4.453, val_acc=0.073\n",
      "Epoch 15/20: loss=4.462, acc=0.061, val_loss=4.456, val_acc=0.062\n",
      "Epoch 16/20: loss=4.463, acc=0.060, val_loss=4.455, val_acc=0.083\n",
      "Epoch 17/20: loss=4.462, acc=0.062, val_loss=4.454, val_acc=0.083\n",
      "Epoch 18/20: loss=4.462, acc=0.061, val_loss=4.456, val_acc=0.083\n",
      "Epoch 19/20: loss=4.462, acc=0.059, val_loss=4.454, val_acc=0.094\n",
      "Epoch 20/20: loss=4.462, acc=0.061, val_loss=4.456, val_acc=0.052\n"
     ]
    }
   ],
   "source": [
    "def compute_accuracy(pred_var, true_var, idx2char):\n",
    "    if torch.cuda.is_available():\n",
    "        ypred = pred_var.cpu().data.numpy()\n",
    "        ytrue = true_var.cpu().data.numpy()\n",
    "    else:\n",
    "        ypred = pred_var.data.numpy()\n",
    "        ytrue = true_var.data.numpy()\n",
    "    pred_nums, true_nums = [], []\n",
    "    total_correct = 0\n",
    "    for i in range(ypred.shape[0]):\n",
    "        true_num = int(\"\".join([idx2char[x] for x in ytrue[i].tolist()]).lstrip())\n",
    "        true_nums.append(true_num)\n",
    "        try:\n",
    "            pred_num = int(\"\".join([idx2char[x] for x in ypred[i].tolist()]).lstrip())\n",
    "            pred_nums.append(pred_num)\n",
    "        except ValueError:\n",
    "            pred_nums.append(true_num + 1)\n",
    "            continue\n",
    "    return pred_nums, true_nums, accuracy_score(pred_nums, true_nums)\n",
    "\n",
    "history = []\n",
    "for epoch in range(NUM_EPOCHS):\n",
    "    \n",
    "    num_batches = Xtrain.shape[0] // BATCH_SIZE\n",
    "    shuffled_indices = np.random.permutation(np.arange(Xtrain.shape[0]))\n",
    "    train_loss, train_acc = 0., 0.\n",
    "    \n",
    "    for bid in range(num_batches):\n",
    "        \n",
    "        # extract one batch of data\n",
    "        Xbatch_data = Xtrain[shuffled_indices[bid * BATCH_SIZE : (bid + 1) * BATCH_SIZE]]\n",
    "        Ybatch_data = Ytrain[shuffled_indices[bid * BATCH_SIZE : (bid + 1) * BATCH_SIZE]]\n",
    "        Xbatch = Variable(torch.from_numpy(Xbatch_data).float())\n",
    "        Ybatch = Variable(torch.from_numpy(Ybatch_data).long())\n",
    "        if torch.cuda.is_available():\n",
    "            Xbatch = Xbatch.cuda()\n",
    "            Ybatch = Ybatch.cuda()\n",
    "            \n",
    "        # initialize gradients\n",
    "        optimizer.zero_grad()\n",
    "\n",
    "        # forward\n",
    "        loss = 0.\n",
    "        Ybatch_ = model(Xbatch)\n",
    "        for i in range(Ybatch.size(1)):\n",
    "            loss += loss_fn(Ybatch_[:, i, :], Ybatch[:, i])\n",
    "        \n",
    "        # backward\n",
    "        loss.backward()\n",
    "\n",
    "        train_loss += loss.data[0]\n",
    "        \n",
    "        _, ybatch_ = Ybatch_.max(2)\n",
    "        _, _, acc = compute_accuracy(ybatch_, Ybatch, idx2char)\n",
    "        train_acc += acc\n",
    "        \n",
    "        optimizer.step()\n",
    "        \n",
    "    # compute training loss and accuracy\n",
    "    train_loss /= num_batches\n",
    "    train_acc /= num_batches\n",
    "    \n",
    "    # compute validation loss and accuracy\n",
    "    val_loss, val_acc = 0., 0.\n",
    "    num_val_batches = Xval.shape[0] // BATCH_SIZE\n",
    "    for bid in range(num_val_batches):\n",
    "        # data\n",
    "        Xbatch_data = Xval[bid * BATCH_SIZE : (bid + 1) * BATCH_SIZE]\n",
    "        Ybatch_data = Yval[bid * BATCH_SIZE : (bid + 1) * BATCH_SIZE]\n",
    "        Xbatch = Variable(torch.from_numpy(Xbatch_data).float())\n",
    "        Ybatch = Variable(torch.from_numpy(Ybatch_data).long())\n",
    "        if torch.cuda.is_available():\n",
    "            Xbatch = Xbatch.cuda()\n",
    "            Ybatch = Ybatch.cuda()\n",
    "\n",
    "        loss = 0.\n",
    "        Ybatch_ = model(Xbatch)\n",
    "        for i in range(Ybatch.size(1)):\n",
    "            loss += loss_fn(Ybatch_[:, i, :], Ybatch[:, i])\n",
    "        val_loss += loss.data[0]\n",
    "\n",
    "        _, ybatch_ = Ybatch_.max(2)\n",
    "        _, _, acc = compute_accuracy(ybatch_, Ybatch, idx2char)\n",
    "        val_acc += acc\n",
    "        \n",
    "    val_loss /= num_val_batches\n",
    "    val_acc /= num_val_batches\n",
    "    \n",
    "    torch.save(model.state_dict(), MODEL_FILE.format(epoch+1))\n",
    "    print(\"Epoch {:2d}/{:d}: loss={:.3f}, acc={:.3f}, val_loss={:.3f}, val_acc={:.3f}\"\n",
    "          .format((epoch+1), NUM_EPOCHS, train_loss, train_acc, val_loss, val_acc))\n",
    "    \n",
    "    history.append((train_loss, val_loss, train_acc, val_acc))"
   ]
  },
  {
   "cell_type": "code",
   "execution_count": 10,
   "metadata": {},
   "outputs": [
    {
     "data": {
      "image/png": "[encoded data removed]",
      "text/plain": [
       "<matplotlib.figure.Figure at 0x1130f3110>"
      ]
     },
     "metadata": {},
     "output_type": "display_data"
    }
   ],
   "source": [
    "losses = [x[0] for x in history]\n",
    "val_losses = [x[1] for x in history]\n",
    "accs = [x[2] for x in history]\n",
    "val_accs = [x[3] for x in history]\n",
    "\n",
    "plt.subplot(211)\n",
    "plt.title(\"Accuracy\")\n",
    "plt.plot(accs, color=\"r\", label=\"train\")\n",
    "plt.plot(val_accs, color=\"b\", label=\"valid\")\n",
    "plt.legend(loc=\"best\")\n",
    "\n",
    "plt.subplot(212)\n",
    "plt.title(\"Loss\")\n",
    "plt.plot(losses, color=\"r\", label=\"train\")\n",
    "plt.plot(val_losses, color=\"b\", label=\"valid\")\n",
    "plt.legend(loc=\"best\")\n",
    "\n",
    "plt.tight_layout()\n",
    "plt.show()"
   ]
  },
  {
   "cell_type": "markdown",
   "metadata": {},
   "source": [
    "## Evaluate Network\n",
    "\n",
    "Our first test takes the (presumably) best trained model and evaluates it against the test set. The second test takes a slice of the test set and displays the predicted and the true result for each. From the second, it appears that the model has learned to always return a single value."
   ]
  },
  {
   "cell_type": "code",
   "execution_count": 11,
   "metadata": {
    "collapsed": true
   },
   "outputs": [],
   "source": [
    "saved_model = AdditionPredictor(ENC_SEQ_LENGTH, EMBEDDING_SIZE, 75,\n",
    "                                DEC_SEQ_LENGTH, 50, len(chrs))\n",
    "saved_model.load_state_dict(torch.load(MODEL_FILE.format(NUM_EPOCHS)))\n",
    "if torch.cuda.is_available():\n",
    "    saved_model.cuda()"
   ]
  },
  {
   "cell_type": "code",
   "execution_count": 12,
   "metadata": {},
   "outputs": [
    {
     "name": "stdout",
     "output_type": "stream",
     "text": [
      "Test accuracy: 0.046\n"
     ]
    }
   ],
   "source": [
    "ylabels, ypreds = [], []\n",
    "num_test_batches = Xtest.shape[0] // BATCH_SIZE\n",
    "for bid in range(num_test_batches):\n",
    "    Xbatch_data = Xtest[bid * BATCH_SIZE : (bid + 1) * BATCH_SIZE]\n",
    "    Ybatch_data = Ytest[bid * BATCH_SIZE : (bid + 1) * BATCH_SIZE]\n",
    "    Xbatch = Variable(torch.from_numpy(Xbatch_data).float())\n",
    "    Ybatch = Variable(torch.from_numpy(Ybatch_data).long())\n",
    "    if torch.cuda.is_available():\n",
    "        Xbatch = Xbatch.cuda()\n",
    "        Ybatch = Ybatch.cuda()\n",
    "\n",
    "    Ybatch_ = saved_model(Xbatch)\n",
    "    _, ybatch_ = Ybatch_.max(2)\n",
    "\n",
    "    pred_nums, true_nums, _ = compute_accuracy(ybatch_, Ybatch, idx2char)\n",
    "    ylabels.extend(true_nums)\n",
    "    ypreds.extend(pred_nums)\n",
    "\n",
    "print(\"Test accuracy: {:.3f}\".format(accuracy_score(ylabels, ypreds)))"
   ]
  },
  {
   "cell_type": "code",
   "execution_count": 13,
   "metadata": {},
   "outputs": [
    {
     "name": "stdout",
     "output_type": "stream",
     "text": [
      "  8+2+10 = 19 (expected 20)\n",
      "   9+0+4 = 17 (expected 13)\n",
      "   0+1+9 = 17 (expected 10)\n",
      "  10+8+4 = 19 (expected 22)\n",
      "   3+4+1 = 17 (expected  8)\n",
      "   0+7+4 = 11 (expected 11)\n",
      "   2+4+4 = 19 (expected 10)\n",
      "   3+3+9 = 19 (expected 15)\n",
      "   1+7+7 = 17 (expected 15)\n",
      "   7+6+6 = 19 (expected 19)\n"
     ]
    }
   ],
   "source": [
    "Xbatch_data = Xtest[0:10]\n",
    "Ybatch_data = Ytest[0:10]\n",
    "Xbatch = Variable(torch.from_numpy(Xbatch_data).float())\n",
    "Ybatch = Variable(torch.from_numpy(Ybatch_data).long())\n",
    "if torch.cuda.is_available():\n",
    "    Xbatch = Xbatch.cuda()\n",
    "    Ybatch = Ybatch.cuda()\n",
    "\n",
    "Ybatch_ = saved_model(Xbatch)\n",
    "_, ybatch_ = Ybatch_.max(2)\n",
    "\n",
    "pred_nums, true_nums, _ = compute_accuracy(ybatch_, Ybatch, idx2char)\n",
    "Xbatch_var = Xbatch.data.numpy()\n",
    "\n",
    "for i in range(Xbatch_var.shape[0]):\n",
    "    problem = \"\".join(one_hot_decode(Xbatch_var[i], idx2char)).lstrip()\n",
    "    print(\"{:>8s} = {:2d} (expected {:2d})\".format(problem, pred_nums[i], true_nums[i]))"
   ]
  },
  {
   "cell_type": "code",
   "execution_count": 14,
   "metadata": {
    "collapsed": true
   },
   "outputs": [],
   "source": [
    "for i in range(NUM_EPOCHS):\n",
    "    os.remove(MODEL_FILE.format(i + 1))"
   ]
  }
 ],
 "metadata": {
  "kernelspec": {
   "display_name": "Python 2",
   "language": "python",
   "name": "python2"
  },
  "language_info": {
   "codemirror_mode": {
    "name": "ipython",
    "version": 2
   },
   "file_extension": ".py",
   "mimetype": "text/x-python",
   "name": "python",
   "nbconvert_exporter": "python",
   "pygments_lexer": "ipython2",
   "version": "2.7.13"
  }
 },
 "nbformat": 4,
 "nbformat_minor": 2
}
