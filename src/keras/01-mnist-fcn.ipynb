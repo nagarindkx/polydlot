{
 "cells": [
  {
   "cell_type": "markdown",
   "metadata": {},
   "source": [
    "# MNIST Digit Classification - Fully Connected Network"
   ]
  },
  {
   "cell_type": "code",
   "execution_count": 1,
   "metadata": {
    "collapsed": false
   },
   "outputs": [
    {
     "name": "stderr",
     "output_type": "stream",
     "text": [
      "Using TensorFlow backend.\n"
     ]
    }
   ],
   "source": [
    "from __future__ import division, print_function\n",
    "from keras.models import Sequential, load_model\n",
    "from keras.callbacks import ModelCheckpoint\n",
    "from keras.layers.core import Dense, Dropout\n",
    "from keras.utils import np_utils\n",
    "from sklearn.metrics import accuracy_score, confusion_matrix\n",
    "import numpy as np\n",
    "import matplotlib.pyplot as plt\n",
    "import os\n",
    "%matplotlib inline"
   ]
  },
  {
   "cell_type": "code",
   "execution_count": 2,
   "metadata": {
    "collapsed": true
   },
   "outputs": [],
   "source": [
    "DATA_DIR = \"../../data\"\n",
    "TRAIN_FILE = os.path.join(DATA_DIR, \"mnist_train.csv\")\n",
    "TEST_FILE = os.path.join(DATA_DIR, \"mnist_test.csv\")\n",
    "\n",
    "BEST_MODEL = os.path.join(DATA_DIR, \"keras-mnist-fcn-best.h5\")\n",
    "FINAL_MODEL = os.path.join(DATA_DIR, \"keras-mnist-fcn-final.h5\")\n",
    "\n",
    "BATCH_SIZE = 128\n",
    "NUM_CLASSES = 10\n",
    "NUM_EPOCHS = 10"
   ]
  },
  {
   "cell_type": "markdown",
   "metadata": {},
   "source": [
    "## Prepare Data"
   ]
  },
  {
   "cell_type": "code",
   "execution_count": 3,
   "metadata": {
    "collapsed": false
   },
   "outputs": [
    {
     "name": "stdout",
     "output_type": "stream",
     "text": [
      "mnist_train.csv: 0 lines read\n",
      "mnist_train.csv: 10000 lines read\n",
      "mnist_train.csv: 20000 lines read\n",
      "mnist_train.csv: 30000 lines read\n",
      "mnist_train.csv: 40000 lines read\n",
      "mnist_train.csv: 50000 lines read\n",
      "mnist_train.csv: 60000 lines read\n",
      "mnist_test.csv: 0 lines read\n",
      "mnist_test.csv: 10000 lines read\n",
      "(60000, 784) (60000, 10) (10000, 784) (10000, 10)\n"
     ]
    }
   ],
   "source": [
    "def parse_file(filename):\n",
    "    xdata, ydata = [], []\n",
    "    fin = open(filename, \"rb\")\n",
    "    i = 0\n",
    "    for line in fin:\n",
    "        if i % 10000 == 0:\n",
    "            print(\"{:s}: {:d} lines read\".format(\n",
    "                os.path.basename(filename), i))\n",
    "        cols = line.strip().split(\",\")\n",
    "        ydata.append(int(cols[0]))\n",
    "        xdata.append([float(x) / 255. for x in cols[1:]])\n",
    "        i += 1\n",
    "    fin.close()\n",
    "    print(\"{:s}: {:d} lines read\".format(os.path.basename(filename), i))\n",
    "    Y = np_utils.to_categorical(np.array(ydata), num_classes=NUM_CLASSES)\n",
    "    X = np.array(xdata)\n",
    "    return X, Y\n",
    "\n",
    "Xtrain, Ytrain = parse_file(TRAIN_FILE)\n",
    "Xtest, Ytest = parse_file(TEST_FILE)\n",
    "print(Xtrain.shape, Ytrain.shape, Xtest.shape, Ytest.shape)"
   ]
  },
  {
   "cell_type": "markdown",
   "metadata": {},
   "source": [
    "## Define Network\n",
    "\n",
    "Model is identical to that defined in Keras example [mnist_mlp.py](https://github.com/fchollet/keras/blob/master/examples/mnist_mlp.py)."
   ]
  },
  {
   "cell_type": "code",
   "execution_count": 4,
   "metadata": {
    "collapsed": false
   },
   "outputs": [],
   "source": [
    "model = Sequential()\n",
    "model.add(Dense(512, activation=\"relu\", input_shape=(784,)))\n",
    "model.add(Dropout(0.2))\n",
    "model.add(Dense(256, activation=\"relu\"))\n",
    "model.add(Dropout(0.2))\n",
    "model.add(Dense(10, activation=\"softmax\"))"
   ]
  },
  {
   "cell_type": "code",
   "execution_count": 5,
   "metadata": {
    "collapsed": true
   },
   "outputs": [],
   "source": [
    "model.compile(optimizer=\"adam\", loss=\"categorical_crossentropy\", \n",
    "              metrics=[\"accuracy\"])"
   ]
  },
  {
   "cell_type": "markdown",
   "metadata": {},
   "source": [
    "## Train Network"
   ]
  },
  {
   "cell_type": "code",
   "execution_count": 6,
   "metadata": {
    "collapsed": false
   },
   "outputs": [
    {
     "name": "stdout",
     "output_type": "stream",
     "text": [
      "Train on 54000 samples, validate on 6000 samples\n",
      "Epoch 1/10\n",
      "54000/54000 [==============================] - 9s - loss: 0.2831 - acc: 0.9158 - val_loss: 0.1023 - val_acc: 0.9687\n",
      "Epoch 2/10\n",
      "54000/54000 [==============================] - 8s - loss: 0.1126 - acc: 0.9649 - val_loss: 0.0752 - val_acc: 0.9765\n",
      "Epoch 3/10\n",
      "54000/54000 [==============================] - 8s - loss: 0.0790 - acc: 0.9753 - val_loss: 0.0642 - val_acc: 0.9788\n",
      "Epoch 4/10\n",
      "54000/54000 [==============================] - 8s - loss: 0.0605 - acc: 0.9809 - val_loss: 0.0768 - val_acc: 0.9767\n",
      "Epoch 5/10\n",
      "54000/54000 [==============================] - 8s - loss: 0.0500 - acc: 0.9838 - val_loss: 0.0721 - val_acc: 0.9790\n",
      "Epoch 6/10\n",
      "54000/54000 [==============================] - 8s - loss: 0.0427 - acc: 0.9855 - val_loss: 0.0630 - val_acc: 0.9812\n",
      "Epoch 7/10\n",
      "54000/54000 [==============================] - 8s - loss: 0.0352 - acc: 0.9888 - val_loss: 0.0649 - val_acc: 0.9817\n",
      "Epoch 8/10\n",
      "54000/54000 [==============================] - 8s - loss: 0.0309 - acc: 0.9898 - val_loss: 0.0642 - val_acc: 0.9817\n",
      "Epoch 9/10\n",
      "54000/54000 [==============================] - 8s - loss: 0.0289 - acc: 0.9904 - val_loss: 0.0618 - val_acc: 0.9848\n",
      "Epoch 10/10\n",
      "54000/54000 [==============================] - 8s - loss: 0.0257 - acc: 0.9913 - val_loss: 0.0680 - val_acc: 0.9835\n"
     ]
    }
   ],
   "source": [
    "checkpoint = ModelCheckpoint(filepath=BEST_MODEL, save_best_only=True)\n",
    "history = model.fit(Xtrain, Ytrain, batch_size=BATCH_SIZE, \n",
    "                    epochs=NUM_EPOCHS,\n",
    "                    validation_split=0.1,\n",
    "                    callbacks=[checkpoint])"
   ]
  },
  {
   "cell_type": "code",
   "execution_count": 7,
   "metadata": {
    "collapsed": true
   },
   "outputs": [],
   "source": [
    "model.save(FINAL_MODEL, overwrite=True)"
   ]
  },
  {
   "cell_type": "code",
   "execution_count": 8,
   "metadata": {
    "collapsed": false
   },
   "outputs": [
    {
     "data": {
      "image/png": "[encoded data removed]",
      "text/plain": [
       "<matplotlib.figure.Figure at 0x7f0bde5f4d10>"
      ]
     },
     "metadata": {},
     "output_type": "display_data"
    }
   ],
   "source": [
    "plt.subplot(211)\n",
    "plt.title(\"Accuracy\")\n",
    "plt.plot(history.history[\"acc\"], color=\"r\", label=\"Train\")\n",
    "plt.plot(history.history[\"val_acc\"], color=\"b\", label=\"Validation\")\n",
    "plt.legend(loc=\"best\")\n",
    "\n",
    "plt.subplot(212)\n",
    "plt.title(\"Loss\")\n",
    "plt.plot(history.history[\"loss\"], color=\"r\", label=\"Train\")\n",
    "plt.plot(history.history[\"val_loss\"], color=\"b\", label=\"Validation\")\n",
    "plt.legend(loc=\"best\")\n",
    "\n",
    "plt.tight_layout()\n",
    "plt.show()"
   ]
  },
  {
   "cell_type": "markdown",
   "metadata": {},
   "source": [
    "## Evaluate Network"
   ]
  },
  {
   "cell_type": "code",
   "execution_count": 9,
   "metadata": {
    "collapsed": false
   },
   "outputs": [
    {
     "name": "stdout",
     "output_type": "stream",
     "text": [
      "==== eval best model on test set ====\n",
      "Accuracy: 0.9831\n",
      "Confusion Matrix\n",
      "[[ 972    0    1    2    0    1    1    1    2    0]\n",
      " [   0 1130    2    1    0    1    0    0    1    0]\n",
      " [   2    1 1016    1    1    0    0    6    4    1]\n",
      " [   0    0    2  995    0    3    0    2    4    4]\n",
      " [   0    0    4    0  961    0    2    1    1   13]\n",
      " [   2    0    0    3    1  878    2    1    4    1]\n",
      " [   3    3    0    1    4    5  939    0    3    0]\n",
      " [   2    3    7    2    2    0    0  998    1   13]\n",
      " [   0    2    3    2    0    1    0    3  958    5]\n",
      " [   3    3    0    4   11    1    0    0    3  984]]\n",
      "==== eval final model on test set ====\n",
      "Accuracy: 0.9848\n",
      "Confusion Matrix\n",
      "[[ 970    0    0    2    1    0    3    0    3    1]\n",
      " [   0 1132    1    0    0    0    1    0    1    0]\n",
      " [   0    2 1012    3    1    0    2    8    3    1]\n",
      " [   0    1    0  993    0    4    0    5    4    3]\n",
      " [   0    0    0    0  964    0    6    4    0    8]\n",
      " [   2    0    0    8    1  873    2    1    4    1]\n",
      " [   2    2    1    0    4    3  946    0    0    0]\n",
      " [   1    3    5    0    1    0    0 1013    3    2]\n",
      " [   0    0    1    6    2    0    4    3  954    4]\n",
      " [   2    3    0    1    4    2    2    3    1  991]]\n"
     ]
    }
   ],
   "source": [
    "def evaluate_model(model, model_name):\n",
    "    print(\"==== eval {:s} model on test set ====\".format(model_name))\n",
    "    Ytest_ = model.predict(Xtest)\n",
    "    ytest = np.argmax(Ytest, axis=1)\n",
    "    ytest_ = np.argmax(Ytest_, axis=1)\n",
    "    acc = accuracy_score(ytest, ytest_)\n",
    "    cm = confusion_matrix(ytest, ytest_)\n",
    "    print(\"Accuracy: {:.4f}\".format(acc))\n",
    "    print(\"Confusion Matrix\")\n",
    "    print(cm)\n",
    "\n",
    "evaluate_model(model, \"best\")\n",
    "\n",
    "model = load_model(BEST_MODEL)\n",
    "evaluate_model(model, \"final\")"
   ]
  },
  {
   "cell_type": "code",
   "execution_count": null,
   "metadata": {
    "collapsed": true
   },
   "outputs": [],
   "source": []
  }
 ],
 "metadata": {
  "anaconda-cloud": {},
  "kernelspec": {
   "display_name": "Python [default]",
   "language": "python",
   "name": "python2"
  },
  "language_info": {
   "codemirror_mode": {
    "name": "ipython",
    "version": 2
   },
   "file_extension": ".py",
   "mimetype": "text/x-python",
   "name": "python",
   "nbconvert_exporter": "python",
   "pygments_lexer": "ipython2",
   "version": "2.7.12"
  }
 },
 "nbformat": 4,
 "nbformat_minor": 0
}
