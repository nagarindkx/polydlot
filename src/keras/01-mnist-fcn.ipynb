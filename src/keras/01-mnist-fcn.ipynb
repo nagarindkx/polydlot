{
 "cells": [
  {
   "cell_type": "markdown",
   "metadata": {},
   "source": [
    "# MNIST Digit Classification - Fully Connected Network"
   ]
  },
  {
   "cell_type": "code",
   "execution_count": 1,
   "metadata": {},
   "outputs": [
    {
     "name": "stderr",
     "output_type": "stream",
     "text": [
      "Using TensorFlow backend.\n"
     ]
    }
   ],
   "source": [
    "from __future__ import division, print_function\n",
    "from keras.models import Sequential, load_model\n",
    "from keras.callbacks import ModelCheckpoint, TensorBoard\n",
    "from keras.layers.core import Dense, Dropout\n",
    "from keras.utils import np_utils\n",
    "from sklearn.metrics import accuracy_score, confusion_matrix\n",
    "import numpy as np\n",
    "import matplotlib.pyplot as plt\n",
    "import os\n",
    "%matplotlib inline"
   ]
  },
  {
   "cell_type": "code",
   "execution_count": 2,
   "metadata": {
    "collapsed": true
   },
   "outputs": [],
   "source": [
    "DATA_DIR = \"../../data\"\n",
    "TRAIN_FILE = os.path.join(DATA_DIR, \"mnist_train.csv\")\n",
    "TEST_FILE = os.path.join(DATA_DIR, \"mnist_test.csv\")\n",
    "\n",
    "BEST_MODEL = os.path.join(DATA_DIR, \"keras-mnist-fcn-best.h5\")\n",
    "FINAL_MODEL = os.path.join(DATA_DIR, \"keras-mnist-fcn-final.h5\")\n",
    "TENSORBOARD_LOGS_DIR = os.path.join(DATA_DIR, \"keras-mnist-fcn-tensorboard\")\n",
    "\n",
    "BATCH_SIZE = 128\n",
    "NUM_CLASSES = 10\n",
    "NUM_EPOCHS = 10"
   ]
  },
  {
   "cell_type": "markdown",
   "metadata": {},
   "source": [
    "## Prepare Data"
   ]
  },
  {
   "cell_type": "code",
   "execution_count": 3,
   "metadata": {},
   "outputs": [
    {
     "name": "stdout",
     "output_type": "stream",
     "text": [
      "mnist_train.csv: 0 lines read\n",
      "mnist_train.csv: 10000 lines read\n",
      "mnist_train.csv: 20000 lines read\n",
      "mnist_train.csv: 30000 lines read\n",
      "mnist_train.csv: 40000 lines read\n",
      "mnist_train.csv: 50000 lines read\n",
      "mnist_train.csv: 60000 lines read\n",
      "mnist_test.csv: 0 lines read\n",
      "mnist_test.csv: 10000 lines read\n",
      "(60000, 784) (60000, 10) (10000, 784) (10000, 10)\n"
     ]
    }
   ],
   "source": [
    "def parse_file(filename):\n",
    "    xdata, ydata = [], []\n",
    "    fin = open(filename, \"rb\")\n",
    "    i = 0\n",
    "    for line in fin:\n",
    "        if i % 10000 == 0:\n",
    "            print(\"{:s}: {:d} lines read\".format(\n",
    "                os.path.basename(filename), i))\n",
    "        cols = line.strip().split(\",\")\n",
    "        ydata.append(int(cols[0]))\n",
    "        xdata.append([float(x) / 255. for x in cols[1:]])\n",
    "        i += 1\n",
    "    fin.close()\n",
    "    print(\"{:s}: {:d} lines read\".format(os.path.basename(filename), i))\n",
    "    Y = np_utils.to_categorical(np.array(ydata), num_classes=NUM_CLASSES)\n",
    "    X = np.array(xdata)\n",
    "    return X, Y\n",
    "\n",
    "Xtrain, Ytrain = parse_file(TRAIN_FILE)\n",
    "Xtest, Ytest = parse_file(TEST_FILE)\n",
    "print(Xtrain.shape, Ytrain.shape, Xtest.shape, Ytest.shape)"
   ]
  },
  {
   "cell_type": "markdown",
   "metadata": {},
   "source": [
    "## Define Network\n",
    "\n",
    "Model is identical to that defined in Keras example [mnist_mlp.py](https://github.com/fchollet/keras/blob/master/examples/mnist_mlp.py)."
   ]
  },
  {
   "cell_type": "code",
   "execution_count": 4,
   "metadata": {
    "collapsed": true
   },
   "outputs": [],
   "source": [
    "model = Sequential()\n",
    "model.add(Dense(512, activation=\"relu\", input_shape=(784,)))\n",
    "model.add(Dropout(0.2))\n",
    "model.add(Dense(256, activation=\"relu\"))\n",
    "model.add(Dropout(0.2))\n",
    "model.add(Dense(10, activation=\"softmax\"))"
   ]
  },
  {
   "cell_type": "code",
   "execution_count": 5,
   "metadata": {
    "collapsed": true
   },
   "outputs": [],
   "source": [
    "model.compile(optimizer=\"adam\", loss=\"categorical_crossentropy\", \n",
    "              metrics=[\"accuracy\"])"
   ]
  },
  {
   "cell_type": "code",
   "execution_count": 6,
   "metadata": {},
   "outputs": [
    {
     "name": "stdout",
     "output_type": "stream",
     "text": [
      "_________________________________________________________________\n",
      "Layer (type)                 Output Shape              Param #   \n",
      "=================================================================\n",
      "dense_1 (Dense)              (None, 512)               401920    \n",
      "_________________________________________________________________\n",
      "dropout_1 (Dropout)          (None, 512)               0         \n",
      "_________________________________________________________________\n",
      "dense_2 (Dense)              (None, 256)               131328    \n",
      "_________________________________________________________________\n",
      "dropout_2 (Dropout)          (None, 256)               0         \n",
      "_________________________________________________________________\n",
      "dense_3 (Dense)              (None, 10)                2570      \n",
      "=================================================================\n",
      "Total params: 535,818\n",
      "Trainable params: 535,818\n",
      "Non-trainable params: 0\n",
      "_________________________________________________________________\n"
     ]
    }
   ],
   "source": [
    "model.summary()"
   ]
  },
  {
   "cell_type": "markdown",
   "metadata": {},
   "source": [
    "## Train Network\n",
    "\n",
    "The Tensorboard callback, if enabled will write out the training logs to the directory given by TENSORBOARD_LOGS_DIR, and you can now start the tensorboard server using the following command:\n",
    "\n",
    "    tensorboard --logdir=/path/to/TENSORBOARD_LOGS_DIR\n",
    "    \n",
    "The tensorboard application can be accessed from the browser at http://localhost:6060"
   ]
  },
  {
   "cell_type": "code",
   "execution_count": 7,
   "metadata": {},
   "outputs": [
    {
     "name": "stdout",
     "output_type": "stream",
     "text": [
      "Train on 54000 samples, validate on 6000 samples\n",
      "Epoch 1/10\n",
      "54000/54000 [==============================] - 6s - loss: 0.2826 - acc: 0.9153 - val_loss: 0.1008 - val_acc: 0.9700\n",
      "Epoch 2/10\n",
      "54000/54000 [==============================] - 5s - loss: 0.1128 - acc: 0.9659 - val_loss: 0.0739 - val_acc: 0.9778\n",
      "Epoch 3/10\n",
      "54000/54000 [==============================] - 5s - loss: 0.0796 - acc: 0.9741 - val_loss: 0.0757 - val_acc: 0.9777\n",
      "Epoch 4/10\n",
      "54000/54000 [==============================] - 5s - loss: 0.0614 - acc: 0.9802 - val_loss: 0.0715 - val_acc: 0.9800\n",
      "Epoch 5/10\n",
      "54000/54000 [==============================] - 5s - loss: 0.0505 - acc: 0.9836 - val_loss: 0.0616 - val_acc: 0.9832\n",
      "Epoch 6/10\n",
      "54000/54000 [==============================] - 5s - loss: 0.0432 - acc: 0.9856 - val_loss: 0.0622 - val_acc: 0.9822\n",
      "Epoch 7/10\n",
      "54000/54000 [==============================] - 5s - loss: 0.0344 - acc: 0.9883 - val_loss: 0.0710 - val_acc: 0.9793\n",
      "Epoch 8/10\n",
      "54000/54000 [==============================] - 5s - loss: 0.0309 - acc: 0.9896 - val_loss: 0.0598 - val_acc: 0.9838\n",
      "Epoch 9/10\n",
      "54000/54000 [==============================] - 5s - loss: 0.0288 - acc: 0.9898 - val_loss: 0.0630 - val_acc: 0.9837\n",
      "Epoch 10/10\n",
      "54000/54000 [==============================] - 6s - loss: 0.0261 - acc: 0.9913 - val_loss: 0.0627 - val_acc: 0.9830\n"
     ]
    }
   ],
   "source": [
    "checkpoint = ModelCheckpoint(filepath=BEST_MODEL, save_best_only=True)\n",
    "tensorboard = TensorBoard(log_dir=TENSORBOARD_LOGS_DIR, \n",
    "                          histogram_freq=1, \n",
    "                          batch_size=BATCH_SIZE, \n",
    "                          write_graph=True, \n",
    "                          write_grads=True, \n",
    "                          write_images=False, \n",
    "                          embeddings_freq=0, \n",
    "                          embeddings_layer_names=None, \n",
    "                          embeddings_metadata=None)\n",
    "history = model.fit(Xtrain, Ytrain, batch_size=BATCH_SIZE, \n",
    "                    epochs=NUM_EPOCHS,\n",
    "                    validation_split=0.1,\n",
    "                    callbacks=[checkpoint, tensorboard])"
   ]
  },
  {
   "cell_type": "code",
   "execution_count": 8,
   "metadata": {
    "collapsed": true
   },
   "outputs": [],
   "source": [
    "model.save(FINAL_MODEL, overwrite=True)"
   ]
  },
  {
   "cell_type": "code",
   "execution_count": 9,
   "metadata": {},
   "outputs": [
    {
     "data": {
      "image/png": "[encoded data removed]",
      "text/plain": [
       "<matplotlib.figure.Figure at 0x13ceb9410>"
      ]
     },
     "metadata": {},
     "output_type": "display_data"
    }
   ],
   "source": [
    "plt.subplot(211)\n",
    "plt.title(\"Accuracy\")\n",
    "plt.plot(history.history[\"acc\"], color=\"r\", label=\"Train\")\n",
    "plt.plot(history.history[\"val_acc\"], color=\"b\", label=\"Validation\")\n",
    "plt.legend(loc=\"best\")\n",
    "\n",
    "plt.subplot(212)\n",
    "plt.title(\"Loss\")\n",
    "plt.plot(history.history[\"loss\"], color=\"r\", label=\"Train\")\n",
    "plt.plot(history.history[\"val_loss\"], color=\"b\", label=\"Validation\")\n",
    "plt.legend(loc=\"best\")\n",
    "\n",
    "plt.tight_layout()\n",
    "plt.show()"
   ]
  },
  {
   "cell_type": "markdown",
   "metadata": {},
   "source": [
    "## Evaluate Network"
   ]
  },
  {
   "cell_type": "code",
   "execution_count": 10,
   "metadata": {},
   "outputs": [
    {
     "name": "stdout",
     "output_type": "stream",
     "text": [
      "==== eval best model on test set ====\n",
      "Accuracy: 0.9805\n",
      "Confusion Matrix\n",
      "[[ 971    1    1    2    0    1    1    0    2    1]\n",
      " [   0 1124    2    2    0    2    1    1    3    0]\n",
      " [   3    0 1009    5    4    1    1    3    5    1]\n",
      " [   0    0    2 1002    0    3    0    1    1    1]\n",
      " [   1    0    3    0  966    0    4    1    0    7]\n",
      " [   1    0    0    9    1  876    1    0    2    2]\n",
      " [   3    3    0    1    4   14  927    0    6    0]\n",
      " [   0    1    8    4    2    1    0 1002    4    6]\n",
      " [   0    1    1   12    2    3    1    2  947    5]\n",
      " [   1    2    0   11    7    3    1    2    1  981]]\n",
      "==== eval final model on test set ====\n",
      "Accuracy: 0.9821\n",
      "Confusion Matrix\n",
      "[[ 970    1    2    2    2    0    2    0    1    0]\n",
      " [   0 1130    2    0    0    1    0    0    2    0]\n",
      " [   1    1 1016    3    1    0    1    5    4    0]\n",
      " [   0    0    3  991    0    4    0    7    3    2]\n",
      " [   1    0    3    0  966    0    3    1    2    6]\n",
      " [   2    0    0   15    1  868    3    0    2    1]\n",
      " [   2    2    1    1    2    4  944    0    2    0]\n",
      " [   1    5    5    1    0    0    0 1005    4    7]\n",
      " [   2    0    1    7    3    3    1    4  950    3]\n",
      " [   0    2    0    5   10    2    1    4    4  981]]\n"
     ]
    }
   ],
   "source": [
    "def evaluate_model(model, model_name):\n",
    "    print(\"==== eval {:s} model on test set ====\".format(model_name))\n",
    "    Ytest_ = model.predict(Xtest)\n",
    "    ytest = np.argmax(Ytest, axis=1)\n",
    "    ytest_ = np.argmax(Ytest_, axis=1)\n",
    "    acc = accuracy_score(ytest, ytest_)\n",
    "    cm = confusion_matrix(ytest, ytest_)\n",
    "    print(\"Accuracy: {:.4f}\".format(acc))\n",
    "    print(\"Confusion Matrix\")\n",
    "    print(cm)\n",
    "\n",
    "evaluate_model(model, \"best\")\n",
    "\n",
    "model = load_model(BEST_MODEL)\n",
    "evaluate_model(model, \"final\")"
   ]
  },
  {
   "cell_type": "code",
   "execution_count": null,
   "metadata": {
    "collapsed": true
   },
   "outputs": [],
   "source": []
  }
 ],
 "metadata": {
  "anaconda-cloud": {},
  "kernelspec": {
   "display_name": "Python 2",
   "language": "python",
   "name": "python2"
  },
  "language_info": {
   "codemirror_mode": {
    "name": "ipython",
    "version": 2
   },
   "file_extension": ".py",
   "mimetype": "text/x-python",
   "name": "python",
   "nbconvert_exporter": "python",
   "pygments_lexer": "ipython2",
   "version": "2.7.13"
  }
 },
 "nbformat": 4,
 "nbformat_minor": 1
}
